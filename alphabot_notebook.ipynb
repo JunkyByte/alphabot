{
 "cells": [
  {
   "cell_type": "code",
   "execution_count": 1,
   "metadata": {
    "ExecuteTime": {
     "end_time": "2019-01-13T13:48:17.872535Z",
     "start_time": "2019-01-13T13:48:16.861936Z"
    },
    "autopy": 2
   },
   "outputs": [
    {
     "name": "stderr",
     "output_type": "stream",
     "text": [
      "Using TensorFlow backend.\n"
     ]
    }
   ],
   "source": [
    "import tensorflow as tf\n",
    "import pickle\n",
    "import keras\n",
    "from keras.models import Model, load_model, clone_model\n",
    "from keras.utils import multi_gpu_model\n",
    "from keras.layers import *\n",
    "from keras.optimizers import Adam, SGD\n",
    "from keras.regularizers import l2\n",
    "from keras.losses import binary_crossentropy\n",
    "import keras.backend as K\n",
    "import numpy as np\n",
    "import matplotlib.pyplot as plt\n",
    "import sys\n",
    "import random\n",
    "sys.path.append('src')  # Fix for jupyter\n",
    "import src.emulator as emulator\n",
    "import src.emulator_utils as emulator_utils\n",
    "import src.emulator_vis as emulator_vis\n",
    "%matplotlib inline\n",
    "from IPython.display import clear_output\n",
    "import time\n",
    "import multiprocessing\n",
    "from multiprocessing import Event, Queue, Pipe\n",
    "from multiprocessing import Process as Thread\n",
    "import os\n",
    "import logging\n",
    "os.environ[\"CUDA_DEVICE_ORDER\"] = \"PCI_BUS_ID\"   # see issue #152\n",
    "os.environ[\"CUDA_VISIBLE_DEVICES\"] = \"0\""
   ]
  },
  {
   "cell_type": "markdown",
   "metadata": {
    "autopy": 0
   },
   "source": [
    "# Logging"
   ]
  },
  {
   "cell_type": "code",
   "execution_count": 2,
   "metadata": {
    "ExecuteTime": {
     "end_time": "2019-01-13T13:48:18.801703Z",
     "start_time": "2019-01-13T13:48:18.799121Z"
    },
    "autopy": 0
   },
   "outputs": [],
   "source": [
    "logging.basicConfig(filename='logging.log', level=logging.DEBUG, format='%(asctime)s %(message)s', filemode='w')"
   ]
  },
  {
   "cell_type": "markdown",
   "metadata": {
    "autopy": 0
   },
   "source": [
    "# Model Params"
   ]
  },
  {
   "cell_type": "code",
   "execution_count": 3,
   "metadata": {
    "ExecuteTime": {
     "end_time": "2019-01-13T13:48:19.599897Z",
     "start_time": "2019-01-13T13:48:19.597363Z"
    },
    "autopy": 0
   },
   "outputs": [],
   "source": [
    "INPUT_SIZE = (16, 16, 5) # Map size fixed to 16x16 (2 to 3 players)\n",
    "N_ACTIONS = 4\n",
    "gpus = 1"
   ]
  },
  {
   "cell_type": "markdown",
   "metadata": {
    "autopy": 0
   },
   "source": [
    "# Define the Layers Blocks"
   ]
  },
  {
   "cell_type": "code",
   "execution_count": 4,
   "metadata": {
    "ExecuteTime": {
     "end_time": "2019-01-13T13:48:20.430768Z",
     "start_time": "2019-01-13T13:48:20.418607Z"
    },
    "autopy": 0
   },
   "outputs": [],
   "source": [
    "filters = 48\n",
    "\n",
    "# Convolutional Block\n",
    "def conv_block(in_layer, name, filters=filters, kernel_size=(3,3), bn=True, relu=True):\n",
    "    l = Conv2D(filters, kernel_size, padding='same', name = name, kernel_regularizer=l2(1e-4),\n",
    "              kernel_initializer='truncated_normal')(in_layer)\n",
    "    if bn:\n",
    "        l = BatchNormalization(axis=3, name = name + '_bn')(l)\n",
    "    if relu:\n",
    "        l = Activation('relu', name = name + '_relu')(l)\n",
    "    \n",
    "    l = Dropout(0.3)(l)\n",
    "    return l\n",
    "\n",
    "# Residual Block\n",
    "def residual_conv(in_layer, idx, filters=filters, kernel_size=(3,3), bn=True, relu=True):\n",
    "    name = 'res_' + str(idx)\n",
    "    # Full conv block of pre-defined shape\n",
    "    l = conv_block(in_layer, name + '_conv1', filters, kernel_size=(3,3), bn=True, relu=True)\n",
    "    # Second block with skip connection\n",
    "    l = Conv2D(filters, kernel_size, padding='same', name = name + '_conv2', kernel_regularizer=l2(1e-4),\n",
    "              kernel_initializer='truncated_normal')(l)\n",
    "    if bn:\n",
    "        l = BatchNormalization(axis=3, name = name + '_conv2_bn')(l)\n",
    "    l = Concatenate()([in_layer, l]) # Skip conn.\n",
    "    if relu:\n",
    "        l = Activation('relu', name = name + '_relu')(l)\n",
    "        \n",
    "    l = Dropout(0.3)(l)\n",
    "    return l\n",
    "\n",
    "def value_head(in_layer):\n",
    "    l = conv_block(in_layer, 'value_head', filters=1, kernel_size=(1,1))\n",
    "    l = Flatten(name = 'value_flatten')(l)\n",
    "    l = Dense(64, name = 'value_dense',\n",
    "             kernel_initializer='truncated_normal')(l)\n",
    "    l = Activation('relu', name = 'value_relu')(l)\n",
    "    l = Dropout(0.3)(l)\n",
    "    l = BatchNormalization(axis=1, name = 'value_bn')(l)\n",
    "\n",
    "    l = Dense(1, name = 'value', activation='tanh')(l) # Value output\n",
    "    return l\n",
    "\n",
    "def policy_head(in_layer):\n",
    "    l = conv_block(in_layer, 'policy_head', filters=2, kernel_size=(1,1))\n",
    "    l = Flatten(name = 'policy_flatten')(l)\n",
    "    l = Dense(64, name='policy_dense', kernel_initializer='truncated_normal')(l)\n",
    "    l = Dropout(0.3)(l)\n",
    "    l = BatchNormalization(axis=1, name = 'policy_bn')(l)\n",
    "    \n",
    "    l = Dense(N_ACTIONS, name = 'policy', activation=None,\n",
    "              kernel_initializer='truncated_normal')(l) # Policy output\n",
    "    return l"
   ]
  },
  {
   "cell_type": "markdown",
   "metadata": {
    "autopy": 0
   },
   "source": [
    "# Model"
   ]
  },
  {
   "cell_type": "code",
   "execution_count": 5,
   "metadata": {
    "ExecuteTime": {
     "end_time": "2019-01-13T13:48:21.596513Z",
     "start_time": "2019-01-13T13:48:21.592396Z"
    },
    "autopy": 0
   },
   "outputs": [],
   "source": [
    "def create_model():\n",
    "    def declare_model():\n",
    "        n_residual = 1#5\n",
    "\n",
    "        input_layer = Input(INPUT_SIZE)\n",
    "        l = conv_block(input_layer, 'conv')\n",
    "        for i in range(n_residual):\n",
    "            l = residual_conv(l, idx=i + 1)\n",
    "\n",
    "        policy = policy_head(l)\n",
    "        \n",
    "        value = value_head(l)\n",
    "\n",
    "        alphabot = Model(input_layer, [policy, value])\n",
    "        return alphabot\n",
    "    \n",
    "    if gpus > 1:\n",
    "        with tf.device('/cpu:0'):\n",
    "            alphabot = declare_model()\n",
    "        alphabot_multi = multi_gpu_model(alphabot, gpus=gpus)\n",
    "        return alphabot_multi, alphabot\n",
    "    \n",
    "    alphabot = declare_model()\n",
    "    return alphabot, alphabot"
   ]
  },
  {
   "cell_type": "code",
   "execution_count": 6,
   "metadata": {
    "ExecuteTime": {
     "end_time": "2019-01-13T13:48:22.254426Z",
     "start_time": "2019-01-13T13:48:22.251189Z"
    },
    "autopy": 0
   },
   "outputs": [],
   "source": [
    "def softmax(z):\n",
    "    assert len(z.shape) == 2\n",
    "    s = np.max(z, axis=1)\n",
    "    s = s[:, np.newaxis] # necessary step to do broadcasting\n",
    "    e_x = np.exp(z - s)\n",
    "    div = np.sum(e_x, axis=1)\n",
    "    div = div[:, np.newaxis]\n",
    "    return e_x / div"
   ]
  },
  {
   "cell_type": "code",
   "execution_count": 7,
   "metadata": {
    "ExecuteTime": {
     "end_time": "2019-01-13T13:48:22.871133Z",
     "start_time": "2019-01-13T13:48:22.860423Z"
    },
    "autopy": 1
   },
   "outputs": [],
   "source": [
    "def pre_train():\n",
    "    #global complete_history\n",
    "    #complete_history = []\n",
    "    \n",
    "    logging.info('Starting pretraining')\n",
    "    for i in range(pretrain_games):\n",
    "        if i % n_games == 0 and i > 0:\n",
    "            logging.info('Simulated %s pretrain-games', n_games)\n",
    "            \n",
    "        games_buffer = [GameRecorder() for player in range(n_players)] # Create a place to store games\n",
    "        game = emulator.Game(n_players) # TODO: Wrap the following lines in a function\n",
    "        gmap = game.map # Access map manually on first step\n",
    "        gmap_old = None # First frame has no older map\n",
    "        p_alive = game.players_alive # Players alive\n",
    "        n_alive = game.count_alive()\n",
    "\n",
    "        def take_action_brain(game):\n",
    "            actions = []\n",
    "            for idx, s in enumerate(game.players_alive):\n",
    "                player_idx = idx\n",
    "                p_x, p_y = game.history[player_idx][-1]\n",
    "                empty = -1\n",
    "                size = INPUT_SIZE[0]\n",
    "                liberties = np.array([0, 0, 0, 0]) # Right, Down, Left, Up\n",
    "                liberties[0] = int(game.map[p_x % size, (p_y + 1) % size] == empty)\n",
    "                liberties[1] = int(game.map[(p_x + 1) % size, p_y % size] == empty)\n",
    "                liberties[2] = int(game.map[p_x % size, (p_y - 1) % size] == empty)\n",
    "                liberties[3] = int(game.map[(p_x - 1) % size, p_y % size] == empty)\n",
    "                if liberties.any() == 0:\n",
    "                    actions.append(np.random.randint(0, len(liberties)))\n",
    "                else:\n",
    "                    while True:\n",
    "                        x = np.random.randint(0, len(liberties))\n",
    "                        if np.random.random() < 0.35: # A small chance of getting the action without even trying\n",
    "                            actions.append(x)\n",
    "                            break\n",
    "                        if liberties[x] == 1:\n",
    "                            actions.append(x)\n",
    "                            break\n",
    "            return actions\n",
    "                \n",
    "        while True:\n",
    "            state = map_to_state(gmap, gmap_old, p_alive) # State for each player alive\n",
    "            chosen_action = take_action_brain(game)\n",
    "            \n",
    "            gmap_old = copy.copy(gmap)\n",
    "            gmap, p_alive_new, n_alive, reward, game_end = game.step(chosen_action)\n",
    "        \n",
    "            idx_alive = 0\n",
    "            for alive in p_alive: # Players which were alive at the start of the step\n",
    "                if alive == 0: # Player is dead, skip it\n",
    "                    continue\n",
    "                \n",
    "                games_buffer[idx_alive].store(state[idx_alive], reward[idx_alive], chosen_action[idx_alive])\n",
    "                idx_alive += 1\n",
    "            p_alive = copy.copy(p_alive_new)\n",
    "            \n",
    "            if game_end:\n",
    "                logging.debug('Game ended, rewards %s', reward)\n",
    "                break\n",
    "        \n",
    "        for g in games_buffer:\n",
    "            if len(g.actions_taken) == 0:\n",
    "                logging.debug('WHAT A 0 STEPS GAME')\n",
    "                continue\n",
    "\n",
    "            complete_history.append(g)\n",
    "    \n",
    "    sum_losses = 0\n",
    "    for i in range(pretrain_steps):\n",
    "        losses = train_model()\n",
    "        sum_losses += losses[0]\n",
    "        if i % 100 == 0 and i > 0:\n",
    "            logging.info('Pretrain step %s losses: %s', i, sum_losses / (i+1))"
   ]
  },
  {
   "cell_type": "code",
   "execution_count": 8,
   "metadata": {
    "ExecuteTime": {
     "end_time": "2019-01-13T13:48:23.441781Z",
     "start_time": "2019-01-13T13:48:23.435268Z"
    },
    "autopy": 0
   },
   "outputs": [],
   "source": [
    "def simulate_games():\n",
    "    logging.debug('Starting Threads for parallel Games')\n",
    "    \n",
    "    parallel_sim() # Parallel Games\n",
    "    while not history_buffer.full():\n",
    "        indices, states = [], []\n",
    "        if processable_buffer.qsize() < num_threads * 2: # Wait until a bunch of requests are queued\n",
    "            continue\n",
    "\n",
    "        for i in range(processable_buffer.qsize()):\n",
    "            index, state = processable_buffer.get()\n",
    "            indices.append(index)\n",
    "            states.append(state)\n",
    "            \n",
    "        states = np.array(states, dtype=np.float64)\n",
    "        #print(states[:, :, :, 0])\n",
    "        predictions = alphabot.predict(states)\n",
    "        #print(predictions)\n",
    "        for i, pred in enumerate(tuple(zip(predictions[0], predictions[1]))):\n",
    "            pipes[indices[i]].send(dict(zip(alphabot.output_names, pred)))\n",
    "        # We have to predict until buffer is full\n",
    "    logging.info('Finished Simulating %s games', n_games)"
   ]
  },
  {
   "cell_type": "code",
   "execution_count": 9,
   "metadata": {
    "ExecuteTime": {
     "end_time": "2019-01-13T13:48:24.033153Z",
     "start_time": "2019-01-13T13:48:24.011874Z"
    },
    "autopy": 0
   },
   "outputs": [],
   "source": [
    "def play_eval(log_game=False):\n",
    "    game = emulator.Game(n_players) # TODO: Wrap the following lines in a function\n",
    "    gmap = game.map # Access map manually on first step\n",
    "\n",
    "    gmap_old = None # First frame has no older map\n",
    "    p_alive = game.players_alive # Players alive\n",
    "    n_alive = game.count_alive()\n",
    "    \n",
    "    #maps = [] # Initialise buffer for log\n",
    "    #maps.append(copy.copy(gmap))\n",
    "    \n",
    "    while True:\n",
    "        assert n_alive == 2, 'Multi player eval is not implemented yet'\n",
    "        state = map_to_state(gmap, gmap_old, p_alive) # State for each player alive\n",
    "        \n",
    "        # The predictions from the candidate and the best bot\n",
    "        p0 = alphabot.predict(state[0][np.newaxis])\n",
    "        p1 = alphabot_best.predict(state[1][np.newaxis])\n",
    "        \n",
    "        # Split in value and policy\n",
    "        candidate_policy = p0[0]\n",
    "        candidate_value = p0[1]\n",
    "        best_policy = p1[0]\n",
    "        best_value = p1[1]\n",
    "        \n",
    "        logging.debug('Candidate Policy: %s Candidate Value: %s', candidate_policy, candidate_value)\n",
    "        logging.debug('Best Bot Policy: %s Best Bot Value: %s', best_policy, best_value)\n",
    "        \n",
    "        policy = [candidate_policy[0], best_policy[0]]\n",
    "        policy = softmax(np.array(policy)) # We softmax the policy logits\n",
    "        chosen_action = np.argmax(policy, axis=-1)\n",
    "        \n",
    "        gmap_old = copy.copy(gmap)\n",
    "        gmap, p_alive, n_alive, reward, game_end = game.step(chosen_action)\n",
    "        #maps.append(copy.copy(gmap))\n",
    "        \n",
    "        if game_end:\n",
    "            if sum(reward == -1) == 2:\n",
    "                return play_eval()\n",
    "            winner = np.where(np.array(p_alive) == 1)[0][0]\n",
    "            if log_game:\n",
    "                return maps\n",
    "\n",
    "            return winner"
   ]
  },
  {
   "cell_type": "code",
   "execution_count": 10,
   "metadata": {
    "ExecuteTime": {
     "end_time": "2019-01-13T13:48:24.575422Z",
     "start_time": "2019-01-13T13:48:24.566723Z"
    },
    "autopy": 0
   },
   "outputs": [],
   "source": [
    "def train_model():\n",
    "        # Get a BATCH_SIZE of games\n",
    "        picked_data = random.sample(complete_history, k=min(BATCH_SIZE, len(complete_history)))\n",
    "        # Get a State from each game selected\n",
    "        x = np.empty((len(picked_data), 16, 16, 4), dtype=np.float64)\n",
    "        actions_taken = []\n",
    "        rewards = []\n",
    "        for j, game in enumerate(picked_data):\n",
    "            index = np.random.randint(0, len(game.actions_taken)) # Get game length and generate index\n",
    "            action = game.actions_taken[index]\n",
    "            state = game.states[index]\n",
    "            #state, action = simmetries(state, action) # Apply random simmetry\n",
    "            x[j] = np.array(state, dtype=np.float64)\n",
    "            actions_taken.append(action)    \n",
    "            rewards.append(np.array(game.rewards[-1], dtype=np.float64))\n",
    "        \n",
    "        #rewards = np.array(rewards)\n",
    "        actions_taken = np.array(actions_taken)\n",
    "        y = alphabot.predict(x)\n",
    "        #y = [np.zeros((x.shape[0], 4)), np.zeros((x.shape[0], 1))]\n",
    "        logging.debug('The predict is %s', y)\n",
    "        \n",
    "        for idx, action in enumerate(actions_taken):\n",
    "            if rewards[idx] == -1: # Loss\n",
    "                #y[0][idx, :] = 1 # Every other actions is good\n",
    "                y[0][idx, action] = 0 # Selected is bad\n",
    "            else: # Win\n",
    "                y[0][idx, action] = 1 # Every action is bad except this one\n",
    "            y[1][idx, 0] = rewards[idx] # Policy is easier to manage\n",
    "        logging.debug('The label is %s', y)\n",
    "        losses = alphabot.train_on_batch(x, y)\n",
    "        return losses"
   ]
  },
  {
   "cell_type": "code",
   "execution_count": 11,
   "metadata": {
    "ExecuteTime": {
     "end_time": "2019-01-13T13:48:25.157072Z",
     "start_time": "2019-01-13T13:48:25.145800Z"
    },
    "autopy": 0
   },
   "outputs": [],
   "source": [
    "def training_cycle():\n",
    "    global alphabot\n",
    "    global alphabot_best\n",
    "    global total_improv\n",
    "    \n",
    "    # Simulate n_games (exception made by first interaction)\n",
    "    logging.info('Starting Training Cycle')\n",
    "    while len(complete_history) < k * n_games:\n",
    "        simulate_games()\n",
    "        # history_buffer contains the games, we store them inside complete history    \n",
    "        for g in range(history_buffer.qsize()):\n",
    "            complete_history.append(history_buffer.get())\n",
    "        stop_simulation() # We can now stop the simulation (will free the memory)\n",
    "    logging.debug('Complete history should be full, it contains %s elements', len(complete_history))\n",
    "    # Now we are ready for the training process\n",
    "    logging.info('Starting Model Training')\n",
    "    losses = [None, None, None] # For debug purpose\n",
    "    sum_loss = 0\n",
    "    cc = 1\n",
    "    for i in range(t_steps + 1):\n",
    "        if i % 100 == 0:\n",
    "            logging.info('Training Interaction: %s losses: %s', i, \n",
    "                         round(sum_loss / cc, 2)) # Works?\n",
    "\n",
    "        losses = train_model()\n",
    "        sum_loss += losses[0]\n",
    "        logging.debug('Losses: %s', losses)\n",
    "        \n",
    "        improved = False\n",
    "        evalued_step = False\n",
    "        cc += 1\n",
    "        if i % eval_steps == 0 and i > 0:\n",
    "            evalued_step = True\n",
    "            cc = 1 # Reset loss counter\n",
    "            sum_loss = 0\n",
    "            wins = {'candidate' : 0, 'best' : 0}\n",
    "            n_c = {0 : 'candidate', 1 : 'best'}\n",
    "            \n",
    "            logging.info('Starting self-play evaluation')    \n",
    "            for j in range(eval_games):\n",
    "                # 0 is Candidate, 1 is the (soon to be old) best\n",
    "                wins[n_c[play_eval()]] += 1 # add a win to the winner\n",
    "                if j % 100 == 0:\n",
    "                    logging.info('Win state Candidate: %s Best: %s', wins['candidate'], wins['best'])\n",
    "            win_ratio = wins['candidate'] / eval_games\n",
    "            if win_ratio > win_percent:\n",
    "                logging.info('Great! Our candidate won %s percent of games', round(win_ratio * 100, 2))\n",
    "                total_improv += 1\n",
    "                logging.info('Our bot got better %s times', total_improv)\n",
    "                improved = True\n",
    "                with open(r\"alphabot_best.pickle\", \"wb\") as output_file:\n",
    "                    pickle.dump(alphabot, output_file)\n",
    "                with open(r\"alphabot_best.pickle\", \"rb\") as input_file:\n",
    "                    alphabot_best = pickle.load(input_file)\n",
    "            else:\n",
    "                logging.info('Damn! Our candidate only won %s percent of games', round(win_ratio * 100, 2))            \n",
    "        if not improved and evalued_step:\n",
    "            logging.info('Not improved, cloning to best')\n",
    "            with open(r\"alphabot_best.pickle\", \"rb\") as input_file:\n",
    "                alphabot = pickle.load(input_file)\n",
    "            \n",
    "    del complete_history[:n_games] # Delete n oldest games from history"
   ]
  },
  {
   "cell_type": "code",
   "execution_count": 12,
   "metadata": {
    "ExecuteTime": {
     "end_time": "2019-01-13T13:48:25.733102Z",
     "start_time": "2019-01-13T13:48:25.728162Z"
    },
    "autopy": 0
   },
   "outputs": [],
   "source": [
    "def load_best(best_model):\n",
    "    global alphabot\n",
    "    global alphabot_best\n",
    "    alphabot_best = load_model(best_model)\n",
    "    alphabot.set_weights(alphabot_best.get_weights())"
   ]
  },
  {
   "cell_type": "code",
   "execution_count": 13,
   "metadata": {
    "ExecuteTime": {
     "end_time": "2019-01-13T13:48:26.398389Z",
     "start_time": "2019-01-13T13:48:26.394130Z"
    },
    "autopy": 0
   },
   "outputs": [],
   "source": [
    "def train(cycles, best_model = None):\n",
    "    global alphabot_best\n",
    "    global alphabot\n",
    "    \n",
    "    if best_model != None:\n",
    "        with open(r\"alphabot_best.pickle\", \"rb\") as input_file:\n",
    "            alphabot_best = pickle.load(input_file)\n",
    "        with open(r\"alphabot_best.pickle\", \"rb\") as input_file:\n",
    "            alphabot = pickle.load(input_file)\n",
    "    else:\n",
    "        with open(r\"alphabot_best.pickle\", \"rb\") as input_file:\n",
    "            alphabot_best = pickle.load(input_file)\n",
    "\n",
    "    pre_train()\n",
    "    with open(r\"alphabot_best.pickle\", \"wb\") as output_file:\n",
    "        pickle.dump(alphabot, output_file)\n",
    "    \n",
    "    with open(r\"alphabot_best.pickle\", \"rb\") as input_file:\n",
    "        alphabot_best = pickle.load(input_file)\n",
    "    \n",
    "    complete_history = []\n",
    "    for i in range(cycles):\n",
    "        training_cycle()"
   ]
  },
  {
   "cell_type": "code",
   "execution_count": 14,
   "metadata": {
    "ExecuteTime": {
     "end_time": "2019-01-13T13:48:26.975913Z",
     "start_time": "2019-01-13T13:48:26.965886Z"
    },
    "autopy": 0
   },
   "outputs": [],
   "source": [
    "class GameRecorder():\n",
    "    def __init__(self):\n",
    "        self.states = []\n",
    "        self.rewards = []\n",
    "        self.actions_taken = []\n",
    "        \n",
    "    def store(self, state, reward, action_taken):\n",
    "        self.states.append(state)\n",
    "        self.rewards.append(reward)\n",
    "        self.actions_taken.append(action_taken)"
   ]
  },
  {
   "cell_type": "code",
   "execution_count": 15,
   "metadata": {
    "ExecuteTime": {
     "end_time": "2019-01-13T13:48:27.556916Z",
     "start_time": "2019-01-13T13:48:27.522757Z"
    },
    "autopy": 0
   },
   "outputs": [],
   "source": [
    "def ask_predict(idi, x):\n",
    "    # Adds to queue id and data from process\n",
    "    [processable_buffer.put((idi, xi)) for xi in x]\n",
    "\n",
    "def sim(process_id, pipe):\n",
    "    np.random.seed()\n",
    "    random.seed()\n",
    "    \n",
    "    while True:\n",
    "        games_buffer = [GameRecorder() for player in range(n_players)] # Create a place to store games\n",
    "        \n",
    "        # Simulate the game, if a prediction is needed use ask_predict\n",
    "        game = emulator.Game(n_players) # TODO: Wrap the following lines in a function\n",
    "        gmap = game.map # Access map manually on first step\n",
    "        gmap_old = None # First frame has no older map\n",
    "        p_alive = game.players_alive # Players alive\n",
    "        n_alive = game.count_alive()\n",
    "\n",
    "        while True:\n",
    "            state = map_to_state(gmap, gmap_old, p_alive) # State for each player alive\n",
    "            ask_predict(process_id, state)\n",
    "            policy, value = [], []\n",
    "            for i in range(n_alive):\n",
    "                raw_prediction = pipe.recv() # Receive actions from main\n",
    "                policy.append(raw_prediction['policy'])\n",
    "                value.append(raw_prediction['value'])\n",
    "            \n",
    "            policy = softmax(np.array(policy)) # We softmax the policy logits\n",
    "            #chosen_action = [np.random.choice(N_ACTIONS, p=act) for act in policy]\n",
    "            chosen_action = np.argmax(policy, axis=-1)\n",
    "            logging.debug('Choosen Actions %s Raw Actions %s', chosen_action, policy)\n",
    "            \n",
    "            gmap_old = copy.copy(gmap)\n",
    "            gmap, p_alive_new, n_alive, reward, game_end = game.step(chosen_action)\n",
    "        \n",
    "            idx_alive = 0\n",
    "            for alive in p_alive: # Players which were alive at the start of the step\n",
    "                if alive == 0: # Player is dead, skip it\n",
    "                    continue\n",
    "                \n",
    "                games_buffer[idx_alive].store(state[idx_alive], reward[idx_alive], chosen_action[idx_alive])\n",
    "                idx_alive += 1\n",
    "            p_alive = copy.copy(p_alive_new)\n",
    "            \n",
    "            if game_end:\n",
    "                logging.debug('Game ended, rewards %s', reward)\n",
    "                break\n",
    "        try:\n",
    "            for g in games_buffer:\n",
    "                # I didn't find a bug yet that makes some games be of 0 steps, gonna skip them for now\n",
    "                if len(g.actions_taken) == 0:\n",
    "                    logging.debug('WHAT A 0 STEPS GAME')\n",
    "                    continue\n",
    "                    \n",
    "                history_buffer.put_nowait(g)\n",
    "        except:\n",
    "            break\n",
    "                    \n",
    "def stop_simulation():\n",
    "    global workers\n",
    "    global history_buffer\n",
    "    global processable_buffer\n",
    "    global pipes\n",
    "    global child_pipes\n",
    "    \n",
    "    if 'workers' in globals() and len(workers) != 0:\n",
    "        for worker in workers:\n",
    "            worker.terminate()\n",
    "    workers = []\n",
    "    \n",
    "    for pipe in pipes:\n",
    "        pipe.close()\n",
    "    \n",
    "    for pipe in child_pipes:\n",
    "        pipe.close()\n",
    "    \n",
    "    \n",
    "    #for _ in range(history_buffer.qsize()):\n",
    "    #    try:\n",
    "    #        history_buffer.get_nowait()\n",
    "    #    except:\n",
    "    #        break\n",
    "            \n",
    "    #for _ in range(processable_buffer.qsize()):\n",
    "    #    try:\n",
    "    #        processable_buffer.get_nowait()\n",
    "    #    except:\n",
    "    #        break\n",
    "        \n",
    "    \n",
    "        \n",
    "    history_buffer.close()\n",
    "    processable_buffer.close()\n",
    "    \n",
    "    # Then we empty the queues\n",
    "    del history_buffer\n",
    "    del processable_buffer\n",
    "    del pipes\n",
    "    del child_pipes\n",
    "\n",
    "def parallel_sim():\n",
    "    global workers\n",
    "    global history_buffer\n",
    "    global processable_buffer\n",
    "    global pipes\n",
    "    global child_pipes\n",
    "    \n",
    "    if 'workers' in globals() and len(workers) != 0:\n",
    "        stop_simulation()\n",
    "    \n",
    "    history_buffer = Queue(n_games) # This numbers can be tweaked\n",
    "    processable_buffer = Queue(num_threads * n_players)\n",
    "    pipes = []\n",
    "    child_pipes = []\n",
    "    \n",
    "    workers = []\n",
    "    for i in range(num_threads):\n",
    "        parent_pipe, child_pipe = Pipe() # Pipe to communicate with childs\n",
    "        pipes.append(parent_pipe)\n",
    "        child_pipes.append(child_pipe)\n",
    "        \n",
    "        worker = Thread(target=sim, args=[i, child_pipe])\n",
    "        worker.daemon = False\n",
    "        worker.start()\n",
    "        workers.append(worker)"
   ]
  },
  {
   "cell_type": "code",
   "execution_count": 16,
   "metadata": {
    "ExecuteTime": {
     "end_time": "2019-01-13T13:48:28.107365Z",
     "start_time": "2019-01-13T13:48:28.099234Z"
    },
    "autopy": 0
   },
   "outputs": [],
   "source": [
    "def simmetries(state, action):\n",
    "    # There are these simmetries:\n",
    "    # +90;+180:-90;-180 degrees rotations\n",
    "    # Flips\n",
    "    \n",
    "    def rotate_state(state, rot):\n",
    "        N = INPUT_SIZE[0] - 1\n",
    "        if rot == 0: # Rotation of 0 is simple\n",
    "            return state\n",
    "        \n",
    "        new_state = np.empty(INPUT_SIZE, dtype=np.int)\n",
    "        it = np.nditer(state, flags=['multi_index'])\n",
    "        \n",
    "        if rot == 3: # Rot of 90\n",
    "            while not it.finished:\n",
    "                x, y, c = it.multi_index\n",
    "                new_state[x, y, c] = state[y, N - x, c]\n",
    "                it.iternext()\n",
    "                \n",
    "        elif rot == 2: # Rot of 180\n",
    "            while not it.finished:\n",
    "                x, y, c = it.multi_index\n",
    "                new_state[x, y, c] = state[N - x, N - y, c]\n",
    "                it.iternext()\n",
    "        elif rot == 1: # Rot of 270\n",
    "            while not it.finished:\n",
    "                x, y, c = it.multi_index\n",
    "                new_state[x, y, c] = state[N - y, x, c]\n",
    "                it.iternext()\n",
    "        return new_state\n",
    "    \n",
    "    # First we apply a random rotation simmetry\n",
    "    simmetry = random.sample([0, 1, 2, 3], 1)[0]\n",
    "    #print(simmetry * 90)\n",
    "    #print(action, simmetry)\n",
    "    action = (action + simmetry) % N_ACTIONS\n",
    "    state = rotate_state(state, simmetry)\n",
    "    return state, action"
   ]
  },
  {
   "cell_type": "code",
   "execution_count": 17,
   "metadata": {
    "ExecuteTime": {
     "end_time": "2019-01-13T13:48:32.813338Z",
     "start_time": "2019-01-13T13:48:28.664851Z"
    },
    "autopy": 0,
    "scrolled": true
   },
   "outputs": [
    {
     "name": "stdout",
     "output_type": "stream",
     "text": [
      "________________________________________________________________________________________________________________\n",
      "Layer (type)                        Output Shape             Param #       Connected to                         \n",
      "================================================================================================================\n",
      "input_1 (InputLayer)                (None, 16, 16, 5)        0                                                  \n",
      "________________________________________________________________________________________________________________\n",
      "conv (Conv2D)                       (None, 16, 16, 48)       2208          input_1[0][0]                        \n",
      "________________________________________________________________________________________________________________\n",
      "conv_bn (BatchNormalization)        (None, 16, 16, 48)       192           conv[0][0]                           \n",
      "________________________________________________________________________________________________________________\n",
      "conv_relu (Activation)              (None, 16, 16, 48)       0             conv_bn[0][0]                        \n",
      "________________________________________________________________________________________________________________\n",
      "dropout_1 (Dropout)                 (None, 16, 16, 48)       0             conv_relu[0][0]                      \n",
      "________________________________________________________________________________________________________________\n",
      "res_1_conv1 (Conv2D)                (None, 16, 16, 48)       20784         dropout_1[0][0]                      \n",
      "________________________________________________________________________________________________________________\n",
      "res_1_conv1_bn (BatchNormalization) (None, 16, 16, 48)       192           res_1_conv1[0][0]                    \n",
      "________________________________________________________________________________________________________________\n",
      "res_1_conv1_relu (Activation)       (None, 16, 16, 48)       0             res_1_conv1_bn[0][0]                 \n",
      "________________________________________________________________________________________________________________\n",
      "dropout_2 (Dropout)                 (None, 16, 16, 48)       0             res_1_conv1_relu[0][0]               \n",
      "________________________________________________________________________________________________________________\n",
      "res_1_conv2 (Conv2D)                (None, 16, 16, 48)       20784         dropout_2[0][0]                      \n",
      "________________________________________________________________________________________________________________\n",
      "res_1_conv2_bn (BatchNormalization) (None, 16, 16, 48)       192           res_1_conv2[0][0]                    \n",
      "________________________________________________________________________________________________________________\n",
      "concatenate_1 (Concatenate)         (None, 16, 16, 96)       0             dropout_1[0][0]                      \n",
      "                                                                           res_1_conv2_bn[0][0]                 \n",
      "________________________________________________________________________________________________________________\n",
      "res_1_relu (Activation)             (None, 16, 16, 96)       0             concatenate_1[0][0]                  \n",
      "________________________________________________________________________________________________________________\n",
      "dropout_3 (Dropout)                 (None, 16, 16, 96)       0             res_1_relu[0][0]                     \n",
      "________________________________________________________________________________________________________________\n",
      "value_head (Conv2D)                 (None, 16, 16, 1)        97            dropout_3[0][0]                      \n",
      "________________________________________________________________________________________________________________\n",
      "policy_head (Conv2D)                (None, 16, 16, 2)        194           dropout_3[0][0]                      \n",
      "________________________________________________________________________________________________________________\n",
      "value_head_bn (BatchNormalization)  (None, 16, 16, 1)        4             value_head[0][0]                     \n",
      "________________________________________________________________________________________________________________\n",
      "policy_head_bn (BatchNormalization) (None, 16, 16, 2)        8             policy_head[0][0]                    \n",
      "________________________________________________________________________________________________________________\n",
      "value_head_relu (Activation)        (None, 16, 16, 1)        0             value_head_bn[0][0]                  \n",
      "________________________________________________________________________________________________________________\n",
      "policy_head_relu (Activation)       (None, 16, 16, 2)        0             policy_head_bn[0][0]                 \n",
      "________________________________________________________________________________________________________________\n",
      "dropout_6 (Dropout)                 (None, 16, 16, 1)        0             value_head_relu[0][0]                \n",
      "________________________________________________________________________________________________________________\n",
      "dropout_4 (Dropout)                 (None, 16, 16, 2)        0             policy_head_relu[0][0]               \n",
      "________________________________________________________________________________________________________________\n",
      "value_flatten (Flatten)             (None, 256)              0             dropout_6[0][0]                      \n",
      "________________________________________________________________________________________________________________\n",
      "policy_flatten (Flatten)            (None, 512)              0             dropout_4[0][0]                      \n",
      "________________________________________________________________________________________________________________\n",
      "value_dense (Dense)                 (None, 64)               16448         value_flatten[0][0]                  \n",
      "________________________________________________________________________________________________________________\n",
      "policy_dense (Dense)                (None, 64)               32832         policy_flatten[0][0]                 \n",
      "________________________________________________________________________________________________________________\n",
      "value_relu (Activation)             (None, 64)               0             value_dense[0][0]                    \n",
      "________________________________________________________________________________________________________________\n",
      "dropout_5 (Dropout)                 (None, 64)               0             policy_dense[0][0]                   \n",
      "________________________________________________________________________________________________________________\n",
      "dropout_7 (Dropout)                 (None, 64)               0             value_relu[0][0]                     \n",
      "________________________________________________________________________________________________________________\n",
      "policy_bn (BatchNormalization)      (None, 64)               256           dropout_5[0][0]                      \n",
      "________________________________________________________________________________________________________________\n",
      "value_bn (BatchNormalization)       (None, 64)               256           dropout_7[0][0]                      \n",
      "________________________________________________________________________________________________________________\n",
      "policy (Dense)                      (None, 4)                260           policy_bn[0][0]                      \n",
      "________________________________________________________________________________________________________________\n",
      "value (Dense)                       (None, 1)                65            value_bn[0][0]                       \n",
      "================================================================================================================\n",
      "Total params: 94,772\n",
      "Trainable params: 94,222\n",
      "Non-trainable params: 550\n",
      "________________________________________________________________________________________________________________\n"
     ]
    }
   ],
   "source": [
    "alphabot, _ = create_model()\n",
    "alphabot.compile(optimizer=Adam(1e-4), \n",
    "                          loss={'value' : 'mse', 'policy' : 'categorical_crossentropy'},\n",
    "                          loss_weights={'value' : 0.1, 'policy' : 2.0})\n",
    "alphabot.summary(line_length=112)\n",
    "\n",
    "with open(r\"alphabot_best.pickle\", \"wb\") as output_file:\n",
    "    pickle.dump(alphabot, output_file)\n",
    "    \n",
    "with open(r\"alphabot_best.pickle\", \"rb\") as input_file:\n",
    "    alphabot_best = pickle.load(input_file)"
   ]
  },
  {
   "cell_type": "code",
   "execution_count": 18,
   "metadata": {
    "ExecuteTime": {
     "end_time": "2019-01-13T13:48:32.818003Z",
     "start_time": "2019-01-13T13:48:32.814794Z"
    },
    "autopy": 0
   },
   "outputs": [],
   "source": [
    "# History of games for training\n",
    "complete_history = []\n",
    "\n",
    "# Game Params\n",
    "n_players = 2\n",
    "n_games = 15_000 # Simulate N games before each training\n",
    "k = 6 # Games to be stored n_games * K\n",
    "\n",
    "# Simulation Params\n",
    "num_threads = 30\n",
    "\n",
    "# Training Params\n",
    "t_steps = 2000 # Steps of training\n",
    "eval_steps = 1000 # How many steps before evaluation\n",
    "eval_games = 500 # How many games to play to evaluate how's best model\n",
    "win_percent = 0.55 # Ratio of game won to become best model\n",
    "BATCH_SIZE = 384\n",
    "total_improv = 0\n",
    "pretrain_steps = 0 #750\n",
    "pretrain_games = 0 #30_000"
   ]
  },
  {
   "cell_type": "code",
   "execution_count": 19,
   "metadata": {
    "ExecuteTime": {
     "end_time": "2019-01-10T13:53:55.952933Z",
     "start_time": "2019-01-10T13:53:55.173085Z"
    },
    "autopy": 0,
    "scrolled": true
   },
   "outputs": [
    {
     "ename": "AssertionError",
     "evalue": "",
     "output_type": "error",
     "traceback": [
      "\u001b[0;31m---------------------------------------------------------------------------\u001b[0m",
      "\u001b[0;31mAssertionError\u001b[0m                            Traceback (most recent call last)",
      "\u001b[0;32m<ipython-input-19-012761243fc3>\u001b[0m in \u001b[0;36m<module>\u001b[0;34m\u001b[0m\n\u001b[1;32m      1\u001b[0m \u001b[0mcomplete_history\u001b[0m \u001b[0;34m=\u001b[0m \u001b[0;34m[\u001b[0m\u001b[0;34m]\u001b[0m\u001b[0;34m\u001b[0m\u001b[0m\n\u001b[1;32m      2\u001b[0m \u001b[0mcycles\u001b[0m \u001b[0;34m=\u001b[0m \u001b[0;36m1000\u001b[0m\u001b[0;34m\u001b[0m\u001b[0m\n\u001b[0;32m----> 3\u001b[0;31m \u001b[0;32massert\u001b[0m \u001b[0;32mFalse\u001b[0m\u001b[0;34m\u001b[0m\u001b[0m\n\u001b[0m\u001b[1;32m      4\u001b[0m \u001b[0mtrain\u001b[0m\u001b[0;34m(\u001b[0m\u001b[0mcycles\u001b[0m\u001b[0;34m)\u001b[0m\u001b[0;34m\u001b[0m\u001b[0m\n",
      "\u001b[0;31mAssertionError\u001b[0m: "
     ]
    }
   ],
   "source": [
    "complete_history = []\n",
    "cycles = 1000\n",
    "assert False\n",
    "train(cycles)"
   ]
  },
  {
   "cell_type": "code",
   "execution_count": 20,
   "metadata": {
    "ExecuteTime": {
     "end_time": "2019-01-13T13:48:32.988873Z",
     "start_time": "2019-01-13T13:48:32.976558Z"
    },
    "autopy": 0
   },
   "outputs": [],
   "source": [
    "class MCTS():\n",
    "    \n",
    "    def __init__(self):\n",
    "        self.tree = []\n",
    "        self.P = {}\n",
    "        self.Q = {}\n",
    "        self.N = {}\n",
    "        self.alpha = 0.8\n",
    "    \n",
    "    def search(self, s, mapp, game, nnet):\n",
    "        logging.debug('Starting search')\n",
    "        s_k = s.tobytes()\n",
    "                \n",
    "        if game.game_ended():\n",
    "            logging.debug('Game Ended during search')\n",
    "            game.reward = 0\n",
    "            return -1\n",
    "        \n",
    "        if s_k not in self.tree:\n",
    "            logging.debug('New state encountered')\n",
    "            self.tree.append(s_k)\n",
    "            policy, value = nnet.predict(s[np.newaxis])\n",
    "            self.P[s_k], v = policy[0], value[0]\n",
    "            self.Q[s_k] = np.zeros((4))\n",
    "            self.N[s_k] = np.zeros((4))\n",
    "            return -v\n",
    "        \n",
    "        max_u, best_a = -float('inf'), -1\n",
    "        logging.debug('Evaluating UCB')\n",
    "        for a in range(4): # The actions\n",
    "            u = self.Q[s_k][a] + self.alpha * self.P[s_k][a] * np.sqrt(np.sum(self.N[s_k]) / (1 + self.N[s_k][a]))\n",
    "            if u > max_u:\n",
    "                max_u = u\n",
    "                best_a = a\n",
    "            logging.debug('Action %d has a value of %f' % (a, u))\n",
    "        a = best_a\n",
    "        \n",
    "        turn = get_turn(mapp)\n",
    "        #print('before is turn of', turn)\n",
    "        logging.debug('\\n ' + str(mapp))\n",
    "        new_map = copy.deepcopy(mapp)\n",
    "        new_map = game.step(new_map, s, a, turn)\n",
    "        turn = get_turn(new_map)\n",
    "        #print('now is turn of', turn)\n",
    "        #if (mapp == new_map).all():\n",
    "        #    print(mapp, '\\n', new_map)\n",
    "        #    assert False\n",
    "        \n",
    "        logging.debug(game.reward)\n",
    "        logging.debug('New map after move, now is turn of %d' %turn)\n",
    "        logging.debug('\\n' + str(new_map))\n",
    "        \n",
    "        if turn == 0: # We update the state\n",
    "            logging.debug('Player 0 turn, updating the map')\n",
    "            sp = map_to_state(new_map, mapp, s, 0) # TODO: Map to state\n",
    "        else:\n",
    "            logging.debug('Player 1 turn, not updating the map')\n",
    "            # But we have to change the point of view of it!\n",
    "            sp = copy.copy(s)\n",
    "            sp[..., -1] = 1\n",
    "        \n",
    "        v = self.search(sp, new_map, game, nnet)\n",
    "        \n",
    "        self.Q[s_k][a] = (self.N[s_k][a] * self.Q[s_k][a] + v) / (self.N[s_k][a] + 1)\n",
    "        self.N[s_k][a] += 1\n",
    "        \n",
    "        return -v"
   ]
  },
  {
   "cell_type": "code",
   "execution_count": 21,
   "metadata": {
    "ExecuteTime": {
     "end_time": "2019-01-13T13:48:49.173150Z",
     "start_time": "2019-01-13T13:48:38.029475Z"
    },
    "autopy": 1,
    "scrolled": true
   },
   "outputs": [
    {
     "ename": "NameError",
     "evalue": "name 'map_to_state' is not defined",
     "output_type": "error",
     "traceback": [
      "\u001b[0;31m---------------------------------------------------------------------------\u001b[0m",
      "\u001b[0;31mNameError\u001b[0m                                 Traceback (most recent call last)",
      "\u001b[0;32m<ipython-input-21-d3cfe3672c2d>\u001b[0m in \u001b[0;36m<module>\u001b[0;34m\u001b[0m\n\u001b[1;32m      1\u001b[0m \u001b[0mgame\u001b[0m \u001b[0;34m=\u001b[0m \u001b[0memulator\u001b[0m\u001b[0;34m.\u001b[0m\u001b[0mGame\u001b[0m\u001b[0;34m(\u001b[0m\u001b[0;36m2\u001b[0m\u001b[0;34m)\u001b[0m\u001b[0;34m\u001b[0m\u001b[0m\n\u001b[1;32m      2\u001b[0m \u001b[0mmapp\u001b[0m \u001b[0;34m=\u001b[0m \u001b[0mgame\u001b[0m\u001b[0;34m.\u001b[0m\u001b[0mreset\u001b[0m\u001b[0;34m(\u001b[0m\u001b[0;34m)\u001b[0m\u001b[0;34m\u001b[0m\u001b[0m\n\u001b[0;32m----> 3\u001b[0;31m \u001b[0ms\u001b[0m \u001b[0;34m=\u001b[0m \u001b[0mmap_to_state\u001b[0m\u001b[0;34m(\u001b[0m\u001b[0mmapp\u001b[0m\u001b[0;34m,\u001b[0m \u001b[0;32mNone\u001b[0m\u001b[0;34m,\u001b[0m \u001b[0;32mNone\u001b[0m\u001b[0;34m,\u001b[0m \u001b[0;36m0\u001b[0m\u001b[0;34m)\u001b[0m\u001b[0;34m\u001b[0m\u001b[0m\n\u001b[0m\u001b[1;32m      4\u001b[0m \u001b[0mtree\u001b[0m \u001b[0;34m=\u001b[0m \u001b[0mMCTS\u001b[0m\u001b[0;34m(\u001b[0m\u001b[0;34m)\u001b[0m\u001b[0;34m\u001b[0m\u001b[0m\n\u001b[1;32m      5\u001b[0m \u001b[0mtree\u001b[0m\u001b[0;34m.\u001b[0m\u001b[0malpha\u001b[0m \u001b[0;34m=\u001b[0m \u001b[0;36m1\u001b[0m\u001b[0;34m\u001b[0m\u001b[0m\n",
      "\u001b[0;31mNameError\u001b[0m: name 'map_to_state' is not defined"
     ]
    }
   ],
   "source": [
    "game = emulator.Game(2)\n",
    "mapp = game.reset()\n",
    "s = map_to_state(mapp, None, None, 0)\n",
    "tree = MCTS()\n",
    "tree.alpha = 1\n",
    "\n",
    "t = time.time()\n",
    "for i in range(10):\n",
    "    tree.search(s, mapp, game, alphabot)"
   ]
  },
  {
   "cell_type": "code",
   "execution_count": 22,
   "metadata": {
    "ExecuteTime": {
     "end_time": "2019-01-13T13:48:33.725803Z",
     "start_time": "2019-01-13T13:48:33.721822Z"
    }
   },
   "outputs": [],
   "source": [
    "def get_turn(x):\n",
    "    idx, count = np.unique(x, return_counts=True)\n",
    "    idx, count = idx[1:], count[1:]\n",
    "    if count[0] == count[1]:\n",
    "        return 0\n",
    "    \n",
    "    return idx[np.argmin(count)]"
   ]
  },
  {
   "cell_type": "code",
   "execution_count": null,
   "metadata": {
    "ExecuteTime": {
     "end_time": "2019-01-13T12:25:19.480782Z",
     "start_time": "2019-01-13T12:25:19.478018Z"
    },
    "autopy": 0
   },
   "outputs": [],
   "source": [
    "np.set_printoptions(precision=4)\n",
    "np.set_printoptions(suppress=False)"
   ]
  },
  {
   "cell_type": "code",
   "execution_count": null,
   "metadata": {
    "ExecuteTime": {
     "end_time": "2019-01-13T12:25:19.582897Z",
     "start_time": "2019-01-13T12:25:19.482170Z"
    },
    "autopy": 0
   },
   "outputs": [],
   "source": [
    "x = tree.Q[s.tobytes()]\n",
    "x / sum(x)"
   ]
  },
  {
   "cell_type": "code",
   "execution_count": null,
   "metadata": {
    "ExecuteTime": {
     "end_time": "2019-01-13T12:12:08.464391Z",
     "start_time": "2019-01-13T12:12:08.450751Z"
    },
    "autopy": 0
   },
   "outputs": [],
   "source": [
    "x = tree.N[s.tobytes()]\n",
    "x / sum(x)"
   ]
  },
  {
   "cell_type": "code",
   "execution_count": null,
   "metadata": {
    "ExecuteTime": {
     "end_time": "2019-01-13T12:12:25.720524Z",
     "start_time": "2019-01-13T12:12:25.681223Z"
    },
    "autopy": 0
   },
   "outputs": [],
   "source": [
    "for x, y in tree.N.items():\n",
    "    print(y)"
   ]
  },
  {
   "cell_type": "code",
   "execution_count": null,
   "metadata": {},
   "outputs": [],
   "source": [
    "sys.setrecursionlimit(80)"
   ]
  },
  {
   "cell_type": "code",
   "execution_count": null,
   "metadata": {},
   "outputs": [],
   "source": [
    "a = np.full((10, 10), fill_value=-1)\n",
    "a[0, 0] = 1\n",
    "np.unique(a, return_counts=True)"
   ]
  },
  {
   "cell_type": "code",
   "execution_count": 23,
   "metadata": {
    "ExecuteTime": {
     "end_time": "2019-01-13T13:48:37.446857Z",
     "start_time": "2019-01-13T13:48:37.436817Z"
    },
    "autopy": 0
   },
   "outputs": [],
   "source": [
    "def map_to_state(gmap, gmap_old, state, turn):\n",
    "    if type(gmap_old) != np.ndarray:\n",
    "        gmap_old = np.full_like(gmap, -1)\n",
    "    \n",
    "    states = np.empty(INPUT_SIZE, dtype=np.int)\n",
    "    \n",
    "    states = process_map(gmap, gmap_old, state, turn)\n",
    "    return states\n",
    "\n",
    "def process_map(gmap, gmap_old, state, idx):\n",
    "    pov_0 = np.zeros((*INPUT_SIZE[:2], 1), dtype=np.int)\n",
    "    pov_0_last = np.zeros((*INPUT_SIZE[:2], 1), dtype=np.int)\n",
    "    pov_1 = np.zeros((*INPUT_SIZE[:2], 1), dtype=np.int)\n",
    "    pov_1_last = np.zeros((*INPUT_SIZE[:2], 1), dtype=np.int)\n",
    "    \n",
    "    pov_0[np.where(gmap == 0)] = 1 # Set to 1 where player 0 is\n",
    "    pov_0_last[np.where(gmap_old == 0)] = 1\n",
    "    \n",
    "    pov_1[np.where(gmap == 1)] = 1 # Set to  1 where player 1 is\n",
    "    pov_1_last[np.where(gmap_old == 1)] = 1\n",
    "    \n",
    "    pov_0_last = pov_0 - pov_0_last\n",
    "    pov_1_last = pov_1 - pov_1_last\n",
    "    \n",
    "    if sum(sum(pov_0_last)) == 0:\n",
    "        #print('No player 0 head')\n",
    "        pov_0_last = np.expand_dims(state[..., 1], axis=-1)\n",
    "    \n",
    "    if sum(sum(pov_1_last)) == 0:\n",
    "        #print('No player 1 head')\n",
    "        pov_1_last = np.expand_dims(state[..., 3], axis=-1)\n",
    "    \n",
    "    turn_m = np.full((*INPUT_SIZE[:2], 1), dtype=np.int, fill_value=idx)\n",
    "    \n",
    "    return np.concatenate([pov_0, pov_0_last, pov_1, pov_1_last, turn_m], axis=2)"
   ]
  },
  {
   "cell_type": "code",
   "execution_count": 44,
   "metadata": {
    "ExecuteTime": {
     "end_time": "2019-01-13T13:42:38.921849Z",
     "start_time": "2019-01-13T13:42:28.900261Z"
    },
    "scrolled": true
   },
   "outputs": [
    {
     "name": "stdout",
     "output_type": "stream",
     "text": [
      "Game ended %d steps 132\n"
     ]
    }
   ],
   "source": [
    "def do_search(n, s, mapp, game, alphabot):\n",
    "    for i in range(n):\n",
    "        tree.search(s, mapp, game, alphabot)\n",
    "    x = tree.N[s.tobytes()]\n",
    "    x / (sum(x) + 1e-7)\n",
    "    return x\n",
    "\n",
    "game = emulator.Game(2)\n",
    "mapp = game.reset()\n",
    "tree = MCTS()\n",
    "\n",
    "old_mapp = None\n",
    "turn = 0\n",
    "s = map_to_state(mapp, old_mapp, None, 0)\n",
    "old_mapp = copy.deepcopy(mapp)\n",
    "print(str(old_mapp).replace('-1', '--'))\n",
    "i = 0\n",
    "while not game.game_ended():        \n",
    "    #print('HEAD 0 \\n' + str(s[..., 1]).replace('0', '--'))\n",
    "    #print('-------------------')\n",
    "    #print(str(old_mapp).replace('-1', '--'))\n",
    "    #print('-------------------')\n",
    "    choosen = np.argmax(do_search(30, s, mapp, game, alphabot))\n",
    "    #choosen = 0\n",
    "    mapp = game.step(mapp, s, choosen, turn)\n",
    "    \n",
    "    turn = get_turn(mapp)\n",
    "    if turn == 0: # We update the state\n",
    "        logging.debug('Player 0 turn, updating the STATE')\n",
    "        #print('turn player 0')\n",
    "        s = map_to_state(mapp, old_mapp, s, 0) # TODO: Map to state\n",
    "    else:\n",
    "        logging.debug('Player 1 turn, not updating the STATE')\n",
    "        #print('turn player 1') \n",
    "        # But we have to change the point of view of it!\n",
    "        s[..., -1] = 1\n",
    "    \n",
    "    if turn == 0:\n",
    "        old_mapp = copy.deepcopy(mapp)\n",
    "    \n",
    "    if turn == 0:\n",
    "        print(str(mapp).replace('-1', '--'))\n",
    "        print('-------------------')\n",
    "    \n",
    "    i += 1\n",
    "    if game.game_ended():\n",
    "        print('Game ended %d steps', i)\n",
    "        \n",
    "    clear_output(True)"
   ]
  },
  {
   "cell_type": "code",
   "execution_count": null,
   "metadata": {
    "ExecuteTime": {
     "end_time": "2019-01-13T12:12:37.310710Z",
     "start_time": "2019-01-13T12:12:37.292194Z"
    },
    "autopy": 0
   },
   "outputs": [],
   "source": [
    "%load_ext autoreload\n",
    "%autoreload 2"
   ]
  },
  {
   "cell_type": "code",
   "execution_count": null,
   "metadata": {
    "autopy": 0
   },
   "outputs": [],
   "source": []
  },
  {
   "cell_type": "code",
   "execution_count": null,
   "metadata": {
    "autopy": 0
   },
   "outputs": [],
   "source": []
  },
  {
   "cell_type": "code",
   "execution_count": null,
   "metadata": {
    "autopy": 0
   },
   "outputs": [],
   "source": []
  },
  {
   "cell_type": "code",
   "execution_count": null,
   "metadata": {
    "autopy": 0
   },
   "outputs": [],
   "source": []
  },
  {
   "cell_type": "code",
   "execution_count": null,
   "metadata": {
    "autopy": 0
   },
   "outputs": [],
   "source": []
  },
  {
   "cell_type": "code",
   "execution_count": null,
   "metadata": {
    "autopy": 0
   },
   "outputs": [],
   "source": []
  },
  {
   "cell_type": "code",
   "execution_count": null,
   "metadata": {
    "autopy": 0
   },
   "outputs": [],
   "source": []
  },
  {
   "cell_type": "code",
   "execution_count": null,
   "metadata": {
    "autopy": 0
   },
   "outputs": [],
   "source": []
  },
  {
   "cell_type": "code",
   "execution_count": null,
   "metadata": {
    "autopy": 0
   },
   "outputs": [],
   "source": []
  },
  {
   "cell_type": "code",
   "execution_count": null,
   "metadata": {
    "autopy": 0
   },
   "outputs": [],
   "source": []
  }
 ],
 "metadata": {
  "kernelspec": {
   "display_name": "Python 3",
   "language": "python",
   "name": "python3"
  },
  "language_info": {
   "codemirror_mode": {
    "name": "ipython",
    "version": 3
   },
   "file_extension": ".py",
   "mimetype": "text/x-python",
   "name": "python",
   "nbconvert_exporter": "python",
   "pygments_lexer": "ipython3",
   "version": "3.6.5"
  }
 },
 "nbformat": 4,
 "nbformat_minor": 2
}
