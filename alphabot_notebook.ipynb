{
 "cells": [
  {
   "cell_type": "code",
   "execution_count": 1,
   "metadata": {
    "ExecuteTime": {
     "end_time": "2018-11-13T22:21:31.038931Z",
     "start_time": "2018-11-13T22:21:29.978902Z"
    },
    "autopy": 2
   },
   "outputs": [
    {
     "name": "stderr",
     "output_type": "stream",
     "text": [
      "/home/adryw/miniconda3/lib/python3.6/importlib/_bootstrap.py:219: RuntimeWarning: numpy.dtype size changed, may indicate binary incompatibility. Expected 96, got 88\n",
      "  return f(*args, **kwds)\n",
      "/home/adryw/miniconda3/lib/python3.6/importlib/_bootstrap.py:219: RuntimeWarning: numpy.dtype size changed, may indicate binary incompatibility. Expected 96, got 88\n",
      "  return f(*args, **kwds)\n",
      "Using TensorFlow backend.\n"
     ]
    }
   ],
   "source": [
    "import tensorflow as tf\n",
    "import keras\n",
    "from keras.models import Model, load_model, clone_model\n",
    "from keras.utils import multi_gpu_model\n",
    "from keras.layers import *\n",
    "from keras.optimizers import Adam, SGD\n",
    "from keras.regularizers import l2\n",
    "from keras.losses import binary_crossentropy\n",
    "import keras.backend as K\n",
    "import numpy as np\n",
    "import matplotlib.pyplot as plt\n",
    "import sys\n",
    "import random\n",
    "sys.path.append('src')  # Fix for jupyter\n",
    "import src.emulator as emulator\n",
    "import src.emulator_utils as emulator_utils\n",
    "import src.emulator_vis as emulator_vis\n",
    "%matplotlib inline\n",
    "from IPython.display import clear_output\n",
    "import time\n",
    "import multiprocessing\n",
    "from multiprocessing import Event, Queue, Pipe\n",
    "from multiprocessing import Process as Thread\n",
    "import os\n",
    "import logging\n",
    "os.environ[\"CUDA_DEVICE_ORDER\"] = \"PCI_BUS_ID\"   # see issue #152\n",
    "os.environ[\"CUDA_VISIBLE_DEVICES\"] = \"0\""
   ]
  },
  {
   "cell_type": "markdown",
   "metadata": {
    "autopy": 0
   },
   "source": [
    "# Logging"
   ]
  },
  {
   "cell_type": "code",
   "execution_count": 2,
   "metadata": {
    "ExecuteTime": {
     "end_time": "2018-11-13T22:21:31.045910Z",
     "start_time": "2018-11-13T22:21:31.040947Z"
    },
    "autopy": 0
   },
   "outputs": [],
   "source": [
    "logging.basicConfig(filename='logging.log', level=logging.INFO, format='%(asctime)s %(message)s', filemode='w')"
   ]
  },
  {
   "cell_type": "markdown",
   "metadata": {
    "autopy": 0
   },
   "source": [
    "# Model Params"
   ]
  },
  {
   "cell_type": "code",
   "execution_count": 3,
   "metadata": {
    "ExecuteTime": {
     "end_time": "2018-11-13T22:21:31.050228Z",
     "start_time": "2018-11-13T22:21:31.047829Z"
    },
    "autopy": 0
   },
   "outputs": [],
   "source": [
    "INPUT_SIZE = (16, 16, 4) # Map size fixed to 16x16 (2 to 3 players)\n",
    "N_ACTIONS = 4\n",
    "gpus = 1"
   ]
  },
  {
   "cell_type": "markdown",
   "metadata": {
    "autopy": 0
   },
   "source": [
    "# Define the Layers Blocks"
   ]
  },
  {
   "cell_type": "code",
   "execution_count": 4,
   "metadata": {
    "ExecuteTime": {
     "end_time": "2018-11-13T22:21:31.060722Z",
     "start_time": "2018-11-13T22:21:31.051906Z"
    },
    "autopy": 0
   },
   "outputs": [],
   "source": [
    "filters = 96\n",
    "\n",
    "# Convolutional Block\n",
    "def conv_block(in_layer, name, filters=filters, kernel_size=(3,3), bn=True, relu=True):\n",
    "    l = Conv2D(filters, kernel_size, padding='same', name = name, kernel_regularizer=l2(5e-5),\n",
    "               kernel_initializer='glorot_normal')(in_layer)\n",
    "    if bn:\n",
    "        l = BatchNormalization(name = name + '_bn')(l)\n",
    "    if relu:\n",
    "        l = Activation('relu', name = name + '_relu')(l)\n",
    "    return l\n",
    "\n",
    "# Residual Block\n",
    "def residual_conv(in_layer, idx, filters=filters, kernel_size=(3,3), bn=True, relu=True):\n",
    "    name = 'res_' + str(idx)\n",
    "    # Full conv block of pre-defined shape\n",
    "    l = conv_block(in_layer, name + '_conv1', filters, kernel_size=(3,3), bn=True, relu=True)\n",
    "    # Second block with skip connection\n",
    "    l = Conv2D(filters, kernel_size, padding='same', name = name + '_conv2', kernel_regularizer=l2(5e-5),\n",
    "               kernel_initializer='glorot_normal')(l)\n",
    "    if bn:\n",
    "        l = BatchNormalization(name = name + '_conv2_bn')(l)\n",
    "    l = Concatenate()([in_layer, l]) # Skip conn.\n",
    "    if relu:\n",
    "        l = Activation('relu', name = name + '_relu')(l)\n",
    "    return l\n",
    "\n",
    "def value_head(in_layer):\n",
    "    l = conv_block(in_layer, 'value_head', filters=1, kernel_size=(1,1))\n",
    "    l = Flatten(name = 'value_flatten')(l)\n",
    "    l = Dense(64, name = 'value_dense', kernel_regularizer=l2(5e-5),\n",
    "              kernel_initializer='glorot_normal')(l)\n",
    "    l = Activation('relu', name = 'value_relu')(l)\n",
    "    l = Dense(1, name = 'value', activation='tanh')(l) # Value output\n",
    "    return l\n",
    "\n",
    "def policy_head(in_layer):\n",
    "    l = conv_block(in_layer, 'policy_head', filters=2, kernel_size=(1,1))\n",
    "    l = Flatten(name = 'policy_flatten')(l)\n",
    "    l = Dense(N_ACTIONS, name = 'policy')(l) # Policy output\n",
    "    return l"
   ]
  },
  {
   "cell_type": "markdown",
   "metadata": {
    "autopy": 0
   },
   "source": [
    "# Model"
   ]
  },
  {
   "cell_type": "code",
   "execution_count": 5,
   "metadata": {
    "ExecuteTime": {
     "end_time": "2018-11-13T22:21:31.069568Z",
     "start_time": "2018-11-13T22:21:31.065117Z"
    },
    "autopy": 0
   },
   "outputs": [],
   "source": [
    "def create_model():\n",
    "    def declare_model():\n",
    "        n_residual = 12\n",
    "\n",
    "        input_layer = Input(INPUT_SIZE)\n",
    "        l = conv_block(input_layer, 'conv')\n",
    "        for i in range(n_residual):\n",
    "            l = residual_conv(l, idx=i + 1)\n",
    "\n",
    "        policy = policy_head(l)\n",
    "        value = value_head(l)\n",
    "\n",
    "        alphabot = Model(input_layer, [policy, value])\n",
    "        return alphabot\n",
    "    \n",
    "    if gpus > 1:\n",
    "        with tf.device('/cpu:0'):\n",
    "            alphabot = declare_model()\n",
    "        alphabot_multi = multi_gpu_model(alphabot, gpus=gpus)\n",
    "        return alphabot_multi, alphabot\n",
    "    \n",
    "    alphabot = declare_model()\n",
    "    return alphabot, alphabot"
   ]
  },
  {
   "cell_type": "code",
   "execution_count": 6,
   "metadata": {
    "ExecuteTime": {
     "end_time": "2018-11-13T22:21:33.000331Z",
     "start_time": "2018-11-13T22:21:32.996162Z"
    },
    "autopy": 0
   },
   "outputs": [],
   "source": [
    "def softmax(z):\n",
    "    assert len(z.shape) == 2\n",
    "    s = np.max(z, axis=1)\n",
    "    s = s[:, np.newaxis] # necessary step to do broadcasting\n",
    "    e_x = np.exp(z - s)\n",
    "    div = np.sum(e_x, axis=1)\n",
    "    div = div[:, np.newaxis]\n",
    "    return e_x / div"
   ]
  },
  {
   "cell_type": "code",
   "execution_count": 7,
   "metadata": {
    "ExecuteTime": {
     "end_time": "2018-11-13T22:21:38.549194Z",
     "start_time": "2018-11-13T22:21:36.135891Z"
    },
    "autopy": 0
   },
   "outputs": [
    {
     "name": "stdout",
     "output_type": "stream",
     "text": [
      "________________________________________________________________________________________________________________\n",
      "Layer (type)                        Output Shape             Param #       Connected to                         \n",
      "================================================================================================================\n",
      "input_1 (InputLayer)                (None, 16, 16, 4)        0                                                  \n",
      "________________________________________________________________________________________________________________\n",
      "conv (Conv2D)                       (None, 16, 16, 96)       3552          input_1[0][0]                        \n",
      "________________________________________________________________________________________________________________\n",
      "conv_bn (BatchNormalization)        (None, 16, 16, 96)       384           conv[0][0]                           \n",
      "________________________________________________________________________________________________________________\n",
      "conv_relu (Activation)              (None, 16, 16, 96)       0             conv_bn[0][0]                        \n",
      "________________________________________________________________________________________________________________\n",
      "res_1_conv1 (Conv2D)                (None, 16, 16, 96)       83040         conv_relu[0][0]                      \n",
      "________________________________________________________________________________________________________________\n",
      "res_1_conv1_bn (BatchNormalization) (None, 16, 16, 96)       384           res_1_conv1[0][0]                    \n",
      "________________________________________________________________________________________________________________\n",
      "res_1_conv1_relu (Activation)       (None, 16, 16, 96)       0             res_1_conv1_bn[0][0]                 \n",
      "________________________________________________________________________________________________________________\n",
      "res_1_conv2 (Conv2D)                (None, 16, 16, 96)       83040         res_1_conv1_relu[0][0]               \n",
      "________________________________________________________________________________________________________________\n",
      "res_1_conv2_bn (BatchNormalization) (None, 16, 16, 96)       384           res_1_conv2[0][0]                    \n",
      "________________________________________________________________________________________________________________\n",
      "concatenate_1 (Concatenate)         (None, 16, 16, 192)      0             conv_relu[0][0]                      \n",
      "                                                                           res_1_conv2_bn[0][0]                 \n",
      "________________________________________________________________________________________________________________\n",
      "res_1_relu (Activation)             (None, 16, 16, 192)      0             concatenate_1[0][0]                  \n",
      "________________________________________________________________________________________________________________\n",
      "res_2_conv1 (Conv2D)                (None, 16, 16, 96)       165984        res_1_relu[0][0]                     \n",
      "________________________________________________________________________________________________________________\n",
      "res_2_conv1_bn (BatchNormalization) (None, 16, 16, 96)       384           res_2_conv1[0][0]                    \n",
      "________________________________________________________________________________________________________________\n",
      "res_2_conv1_relu (Activation)       (None, 16, 16, 96)       0             res_2_conv1_bn[0][0]                 \n",
      "________________________________________________________________________________________________________________\n",
      "res_2_conv2 (Conv2D)                (None, 16, 16, 96)       83040         res_2_conv1_relu[0][0]               \n",
      "________________________________________________________________________________________________________________\n",
      "res_2_conv2_bn (BatchNormalization) (None, 16, 16, 96)       384           res_2_conv2[0][0]                    \n",
      "________________________________________________________________________________________________________________\n",
      "concatenate_2 (Concatenate)         (None, 16, 16, 288)      0             res_1_relu[0][0]                     \n",
      "                                                                           res_2_conv2_bn[0][0]                 \n",
      "________________________________________________________________________________________________________________\n",
      "res_2_relu (Activation)             (None, 16, 16, 288)      0             concatenate_2[0][0]                  \n",
      "________________________________________________________________________________________________________________\n",
      "res_3_conv1 (Conv2D)                (None, 16, 16, 96)       248928        res_2_relu[0][0]                     \n",
      "________________________________________________________________________________________________________________\n",
      "res_3_conv1_bn (BatchNormalization) (None, 16, 16, 96)       384           res_3_conv1[0][0]                    \n",
      "________________________________________________________________________________________________________________\n",
      "res_3_conv1_relu (Activation)       (None, 16, 16, 96)       0             res_3_conv1_bn[0][0]                 \n",
      "________________________________________________________________________________________________________________\n",
      "res_3_conv2 (Conv2D)                (None, 16, 16, 96)       83040         res_3_conv1_relu[0][0]               \n",
      "________________________________________________________________________________________________________________\n",
      "res_3_conv2_bn (BatchNormalization) (None, 16, 16, 96)       384           res_3_conv2[0][0]                    \n",
      "________________________________________________________________________________________________________________\n",
      "concatenate_3 (Concatenate)         (None, 16, 16, 384)      0             res_2_relu[0][0]                     \n",
      "                                                                           res_3_conv2_bn[0][0]                 \n",
      "________________________________________________________________________________________________________________\n",
      "res_3_relu (Activation)             (None, 16, 16, 384)      0             concatenate_3[0][0]                  \n",
      "________________________________________________________________________________________________________________\n",
      "res_4_conv1 (Conv2D)                (None, 16, 16, 96)       331872        res_3_relu[0][0]                     \n",
      "________________________________________________________________________________________________________________\n",
      "res_4_conv1_bn (BatchNormalization) (None, 16, 16, 96)       384           res_4_conv1[0][0]                    \n",
      "________________________________________________________________________________________________________________\n",
      "res_4_conv1_relu (Activation)       (None, 16, 16, 96)       0             res_4_conv1_bn[0][0]                 \n",
      "________________________________________________________________________________________________________________\n",
      "res_4_conv2 (Conv2D)                (None, 16, 16, 96)       83040         res_4_conv1_relu[0][0]               \n",
      "________________________________________________________________________________________________________________\n",
      "res_4_conv2_bn (BatchNormalization) (None, 16, 16, 96)       384           res_4_conv2[0][0]                    \n",
      "________________________________________________________________________________________________________________\n",
      "concatenate_4 (Concatenate)         (None, 16, 16, 480)      0             res_3_relu[0][0]                     \n",
      "                                                                           res_4_conv2_bn[0][0]                 \n",
      "________________________________________________________________________________________________________________\n",
      "res_4_relu (Activation)             (None, 16, 16, 480)      0             concatenate_4[0][0]                  \n",
      "________________________________________________________________________________________________________________\n",
      "res_5_conv1 (Conv2D)                (None, 16, 16, 96)       414816        res_4_relu[0][0]                     \n",
      "________________________________________________________________________________________________________________\n",
      "res_5_conv1_bn (BatchNormalization) (None, 16, 16, 96)       384           res_5_conv1[0][0]                    \n",
      "________________________________________________________________________________________________________________\n",
      "res_5_conv1_relu (Activation)       (None, 16, 16, 96)       0             res_5_conv1_bn[0][0]                 \n",
      "________________________________________________________________________________________________________________\n",
      "res_5_conv2 (Conv2D)                (None, 16, 16, 96)       83040         res_5_conv1_relu[0][0]               \n",
      "________________________________________________________________________________________________________________\n",
      "res_5_conv2_bn (BatchNormalization) (None, 16, 16, 96)       384           res_5_conv2[0][0]                    \n",
      "________________________________________________________________________________________________________________\n",
      "concatenate_5 (Concatenate)         (None, 16, 16, 576)      0             res_4_relu[0][0]                     \n",
      "                                                                           res_5_conv2_bn[0][0]                 \n",
      "________________________________________________________________________________________________________________\n",
      "res_5_relu (Activation)             (None, 16, 16, 576)      0             concatenate_5[0][0]                  \n",
      "________________________________________________________________________________________________________________\n",
      "res_6_conv1 (Conv2D)                (None, 16, 16, 96)       497760        res_5_relu[0][0]                     \n",
      "________________________________________________________________________________________________________________\n",
      "res_6_conv1_bn (BatchNormalization) (None, 16, 16, 96)       384           res_6_conv1[0][0]                    \n",
      "________________________________________________________________________________________________________________\n",
      "res_6_conv1_relu (Activation)       (None, 16, 16, 96)       0             res_6_conv1_bn[0][0]                 \n",
      "________________________________________________________________________________________________________________\n",
      "res_6_conv2 (Conv2D)                (None, 16, 16, 96)       83040         res_6_conv1_relu[0][0]               \n",
      "________________________________________________________________________________________________________________\n",
      "res_6_conv2_bn (BatchNormalization) (None, 16, 16, 96)       384           res_6_conv2[0][0]                    \n",
      "________________________________________________________________________________________________________________\n",
      "concatenate_6 (Concatenate)         (None, 16, 16, 672)      0             res_5_relu[0][0]                     \n",
      "                                                                           res_6_conv2_bn[0][0]                 \n",
      "________________________________________________________________________________________________________________\n",
      "res_6_relu (Activation)             (None, 16, 16, 672)      0             concatenate_6[0][0]                  \n",
      "________________________________________________________________________________________________________________\n",
      "res_7_conv1 (Conv2D)                (None, 16, 16, 96)       580704        res_6_relu[0][0]                     \n",
      "________________________________________________________________________________________________________________\n",
      "res_7_conv1_bn (BatchNormalization) (None, 16, 16, 96)       384           res_7_conv1[0][0]                    \n",
      "________________________________________________________________________________________________________________\n",
      "res_7_conv1_relu (Activation)       (None, 16, 16, 96)       0             res_7_conv1_bn[0][0]                 \n",
      "________________________________________________________________________________________________________________\n",
      "res_7_conv2 (Conv2D)                (None, 16, 16, 96)       83040         res_7_conv1_relu[0][0]               \n",
      "________________________________________________________________________________________________________________\n",
      "res_7_conv2_bn (BatchNormalization) (None, 16, 16, 96)       384           res_7_conv2[0][0]                    \n",
      "________________________________________________________________________________________________________________\n",
      "concatenate_7 (Concatenate)         (None, 16, 16, 768)      0             res_6_relu[0][0]                     \n",
      "                                                                           res_7_conv2_bn[0][0]                 \n",
      "________________________________________________________________________________________________________________\n",
      "res_7_relu (Activation)             (None, 16, 16, 768)      0             concatenate_7[0][0]                  \n",
      "________________________________________________________________________________________________________________\n",
      "res_8_conv1 (Conv2D)                (None, 16, 16, 96)       663648        res_7_relu[0][0]                     \n",
      "________________________________________________________________________________________________________________\n",
      "res_8_conv1_bn (BatchNormalization) (None, 16, 16, 96)       384           res_8_conv1[0][0]                    \n",
      "________________________________________________________________________________________________________________\n",
      "res_8_conv1_relu (Activation)       (None, 16, 16, 96)       0             res_8_conv1_bn[0][0]                 \n",
      "________________________________________________________________________________________________________________\n",
      "res_8_conv2 (Conv2D)                (None, 16, 16, 96)       83040         res_8_conv1_relu[0][0]               \n",
      "________________________________________________________________________________________________________________\n",
      "res_8_conv2_bn (BatchNormalization) (None, 16, 16, 96)       384           res_8_conv2[0][0]                    \n",
      "________________________________________________________________________________________________________________\n",
      "concatenate_8 (Concatenate)         (None, 16, 16, 864)      0             res_7_relu[0][0]                     \n",
      "                                                                           res_8_conv2_bn[0][0]                 \n",
      "________________________________________________________________________________________________________________\n",
      "res_8_relu (Activation)             (None, 16, 16, 864)      0             concatenate_8[0][0]                  \n",
      "________________________________________________________________________________________________________________\n",
      "res_9_conv1 (Conv2D)                (None, 16, 16, 96)       746592        res_8_relu[0][0]                     \n",
      "________________________________________________________________________________________________________________\n",
      "res_9_conv1_bn (BatchNormalization) (None, 16, 16, 96)       384           res_9_conv1[0][0]                    \n",
      "________________________________________________________________________________________________________________\n",
      "res_9_conv1_relu (Activation)       (None, 16, 16, 96)       0             res_9_conv1_bn[0][0]                 \n",
      "________________________________________________________________________________________________________________\n",
      "res_9_conv2 (Conv2D)                (None, 16, 16, 96)       83040         res_9_conv1_relu[0][0]               \n",
      "________________________________________________________________________________________________________________\n",
      "res_9_conv2_bn (BatchNormalization) (None, 16, 16, 96)       384           res_9_conv2[0][0]                    \n",
      "________________________________________________________________________________________________________________\n",
      "concatenate_9 (Concatenate)         (None, 16, 16, 960)      0             res_8_relu[0][0]                     \n",
      "                                                                           res_9_conv2_bn[0][0]                 \n",
      "________________________________________________________________________________________________________________\n",
      "res_9_relu (Activation)             (None, 16, 16, 960)      0             concatenate_9[0][0]                  \n",
      "________________________________________________________________________________________________________________\n",
      "res_10_conv1 (Conv2D)               (None, 16, 16, 96)       829536        res_9_relu[0][0]                     \n",
      "________________________________________________________________________________________________________________\n",
      "res_10_conv1_bn (BatchNormalization (None, 16, 16, 96)       384           res_10_conv1[0][0]                   \n",
      "________________________________________________________________________________________________________________\n",
      "res_10_conv1_relu (Activation)      (None, 16, 16, 96)       0             res_10_conv1_bn[0][0]                \n",
      "________________________________________________________________________________________________________________\n",
      "res_10_conv2 (Conv2D)               (None, 16, 16, 96)       83040         res_10_conv1_relu[0][0]              \n",
      "________________________________________________________________________________________________________________\n",
      "res_10_conv2_bn (BatchNormalization (None, 16, 16, 96)       384           res_10_conv2[0][0]                   \n",
      "________________________________________________________________________________________________________________\n",
      "concatenate_10 (Concatenate)        (None, 16, 16, 1056)     0             res_9_relu[0][0]                     \n",
      "                                                                           res_10_conv2_bn[0][0]                \n",
      "________________________________________________________________________________________________________________\n",
      "res_10_relu (Activation)            (None, 16, 16, 1056)     0             concatenate_10[0][0]                 \n",
      "________________________________________________________________________________________________________________\n",
      "res_11_conv1 (Conv2D)               (None, 16, 16, 96)       912480        res_10_relu[0][0]                    \n",
      "________________________________________________________________________________________________________________\n",
      "res_11_conv1_bn (BatchNormalization (None, 16, 16, 96)       384           res_11_conv1[0][0]                   \n",
      "________________________________________________________________________________________________________________\n",
      "res_11_conv1_relu (Activation)      (None, 16, 16, 96)       0             res_11_conv1_bn[0][0]                \n",
      "________________________________________________________________________________________________________________\n",
      "res_11_conv2 (Conv2D)               (None, 16, 16, 96)       83040         res_11_conv1_relu[0][0]              \n",
      "________________________________________________________________________________________________________________\n",
      "res_11_conv2_bn (BatchNormalization (None, 16, 16, 96)       384           res_11_conv2[0][0]                   \n",
      "________________________________________________________________________________________________________________\n",
      "concatenate_11 (Concatenate)        (None, 16, 16, 1152)     0             res_10_relu[0][0]                    \n",
      "                                                                           res_11_conv2_bn[0][0]                \n",
      "________________________________________________________________________________________________________________\n",
      "res_11_relu (Activation)            (None, 16, 16, 1152)     0             concatenate_11[0][0]                 \n",
      "________________________________________________________________________________________________________________\n",
      "res_12_conv1 (Conv2D)               (None, 16, 16, 96)       995424        res_11_relu[0][0]                    \n",
      "________________________________________________________________________________________________________________\n",
      "res_12_conv1_bn (BatchNormalization (None, 16, 16, 96)       384           res_12_conv1[0][0]                   \n",
      "________________________________________________________________________________________________________________\n",
      "res_12_conv1_relu (Activation)      (None, 16, 16, 96)       0             res_12_conv1_bn[0][0]                \n",
      "________________________________________________________________________________________________________________\n",
      "res_12_conv2 (Conv2D)               (None, 16, 16, 96)       83040         res_12_conv1_relu[0][0]              \n",
      "________________________________________________________________________________________________________________\n",
      "res_12_conv2_bn (BatchNormalization (None, 16, 16, 96)       384           res_12_conv2[0][0]                   \n",
      "________________________________________________________________________________________________________________\n",
      "concatenate_12 (Concatenate)        (None, 16, 16, 1248)     0             res_11_relu[0][0]                    \n",
      "                                                                           res_12_conv2_bn[0][0]                \n",
      "________________________________________________________________________________________________________________\n",
      "res_12_relu (Activation)            (None, 16, 16, 1248)     0             concatenate_12[0][0]                 \n",
      "________________________________________________________________________________________________________________\n",
      "value_head (Conv2D)                 (None, 16, 16, 1)        1249          res_12_relu[0][0]                    \n",
      "________________________________________________________________________________________________________________\n",
      "value_head_bn (BatchNormalization)  (None, 16, 16, 1)        4             value_head[0][0]                     \n",
      "________________________________________________________________________________________________________________\n",
      "policy_head (Conv2D)                (None, 16, 16, 2)        2498          res_12_relu[0][0]                    \n",
      "________________________________________________________________________________________________________________\n",
      "value_head_relu (Activation)        (None, 16, 16, 1)        0             value_head_bn[0][0]                  \n",
      "________________________________________________________________________________________________________________\n",
      "policy_head_bn (BatchNormalization) (None, 16, 16, 2)        8             policy_head[0][0]                    \n",
      "________________________________________________________________________________________________________________\n",
      "value_flatten (Flatten)             (None, 256)              0             value_head_relu[0][0]                \n",
      "________________________________________________________________________________________________________________\n",
      "policy_head_relu (Activation)       (None, 16, 16, 2)        0             policy_head_bn[0][0]                 \n",
      "________________________________________________________________________________________________________________\n",
      "value_dense (Dense)                 (None, 64)               16448         value_flatten[0][0]                  \n",
      "________________________________________________________________________________________________________________\n",
      "policy_flatten (Flatten)            (None, 512)              0             policy_head_relu[0][0]               \n",
      "________________________________________________________________________________________________________________\n",
      "value_relu (Activation)             (None, 64)               0             value_dense[0][0]                    \n",
      "________________________________________________________________________________________________________________\n",
      "policy (Dense)                      (None, 4)                2052          policy_flatten[0][0]                 \n",
      "________________________________________________________________________________________________________________\n",
      "value (Dense)                       (None, 1)                65            value_relu[0][0]                     \n",
      "================================================================================================================\n",
      "Total params: 7,502,740\n",
      "Trainable params: 7,497,934\n",
      "Non-trainable params: 4,806\n",
      "________________________________________________________________________________________________________________\n"
     ]
    }
   ],
   "source": [
    "alphabot_training, alphabot = create_model()\n",
    "alphabot_training.compile(optimizer=SGD(1e-3), \n",
    "                          loss={'value' : 'mse', 'policy' : 'mse'},\n",
    "                          loss_weights={'value' : 0.6, 'policy' : 1.0})\n",
    "alphabot.summary(line_length=112)"
   ]
  },
  {
   "cell_type": "code",
   "execution_count": 8,
   "metadata": {
    "ExecuteTime": {
     "end_time": "2018-11-13T22:21:46.037037Z",
     "start_time": "2018-11-13T22:21:46.033908Z"
    },
    "autopy": 0
   },
   "outputs": [],
   "source": [
    "# History of games for training\n",
    "complete_history = []\n",
    "\n",
    "# Game Params\n",
    "n_players = 2\n",
    "n_games = 12_500 #10_000 # Simulate N games before each training\n",
    "k = 7 # Games to be stored n_games * K\n",
    "\n",
    "# Simulation Params\n",
    "num_threads = 16\n",
    "\n",
    "# Training Params\n",
    "t_steps = 1000 * 2 # Steps of training\n",
    "eval_steps = 500 # How many steps before evaluation\n",
    "eval_games = 350 # How many games to play to evaluate how's best model\n",
    "win_percent = 0.55 # Ratio of game won to become best model\n",
    "BATCH_SIZE = 200\n",
    "alphabot_best = None\n",
    "total_improv = 0"
   ]
  },
  {
   "cell_type": "code",
   "execution_count": 9,
   "metadata": {
    "ExecuteTime": {
     "end_time": "2018-11-13T22:21:48.612822Z",
     "start_time": "2018-11-13T22:21:48.603964Z"
    },
    "autopy": 0
   },
   "outputs": [],
   "source": [
    "def simulate_games():\n",
    "    logging.debug('Starting Threads for parallel Games')\n",
    "    \n",
    "    parallel_sim() # Parallel Games\n",
    "    while not history_buffer.full():\n",
    "        indices, states = [], []\n",
    "        if processable_buffer.qsize() < (num_threads-1) * 2: # Wait until a bunch of requests are queued\n",
    "            continue\n",
    "\n",
    "        for i in range(processable_buffer.qsize()):\n",
    "            index, state = processable_buffer.get()\n",
    "            indices.append(index)\n",
    "            states.append(state)\n",
    "            \n",
    "        predictions = alphabot.predict(np.array(states, dtype=np.float64))\n",
    "        for i, pred in enumerate(tuple(zip(predictions[0], predictions[1]))):\n",
    "            pipes[indices[i]].send(dict(zip(alphabot.output_names, pred)))\n",
    "        # We have to predict until buffer is full\n",
    "    logging.info('Finished Simulating %s games', n_games)"
   ]
  },
  {
   "cell_type": "code",
   "execution_count": 10,
   "metadata": {
    "ExecuteTime": {
     "end_time": "2018-11-13T22:21:49.900684Z",
     "start_time": "2018-11-13T22:21:49.892776Z"
    },
    "autopy": 0
   },
   "outputs": [],
   "source": [
    "def play_eval(log_game=False):\n",
    "    game = emulator.Game(n_players) # TODO: Wrap the following lines in a function\n",
    "    gmap = game.map # Access map manually on first step\n",
    "\n",
    "    gmap_old = None # First frame has no older map\n",
    "    p_alive = game.players_alive # Players alive\n",
    "    n_alive = game.count_alive()\n",
    "    \n",
    "    maps = [] # Initialise buffer for log\n",
    "    maps.append(copy.copy(gmap))\n",
    "    \n",
    "    while True:\n",
    "        assert n_alive == 2, 'Multi player eval is not implemented yet'\n",
    "        state = map_to_state(gmap, gmap_old, p_alive) # State for each player alive\n",
    "        \n",
    "        # The predictions from the candidate and the best bot\n",
    "        p0 = alphabot.predict(state[0][np.newaxis])\n",
    "        p1 = alphabot_best.predict(state[1][np.newaxis])\n",
    "        \n",
    "        # Split in value and policy\n",
    "        candidate_policy = p0[0]\n",
    "        candidate_value = p0[1]\n",
    "        best_policy = p1[0]\n",
    "        best_value = p1[1]\n",
    "        \n",
    "        logging.debug('Candidate Policy: %s Candidate Value: %s', candidate_policy, candidate_value)\n",
    "        logging.debug('Best Bot Policy: %s Best Bot Value: %s', best_policy, best_value)\n",
    "        \n",
    "        policy = [candidate_policy[0], best_policy[0]]\n",
    "        policy = softmax(np.array(policy)) # We softmax the policy logits\n",
    "        chosen_action = np.argmax(policy, axis=-1)\n",
    "        \n",
    "        gmap_old = copy.copy(gmap)\n",
    "        gmap, p_alive, n_alive, reward, game_end = game.step(chosen_action)\n",
    "        maps.append(copy.copy(gmap))\n",
    "        \n",
    "        if game_end:\n",
    "            winner = np.where(np.array(p_alive) == 1)[0][0]\n",
    "            if log_game:\n",
    "                return maps\n",
    "\n",
    "            return winner"
   ]
  },
  {
   "cell_type": "code",
   "execution_count": 11,
   "metadata": {
    "ExecuteTime": {
     "end_time": "2018-11-13T22:21:51.156349Z",
     "start_time": "2018-11-13T22:21:51.138964Z"
    },
    "autopy": 0
   },
   "outputs": [],
   "source": [
    "def training_cycle(): \n",
    "    global alphabot\n",
    "    global alphabot_best\n",
    "    global total_improv\n",
    "    \n",
    "    # Simulate n_games (exception made by first interaction)\n",
    "    logging.info('Starting Training Cycle')\n",
    "    while len(complete_history) < k * n_games:\n",
    "        simulate_games()\n",
    "        # history_buffer contains the games, we store them inside complete history    \n",
    "        for g in range(history_buffer.qsize()):\n",
    "            complete_history.append(history_buffer.get())\n",
    "        stop_simulation() # We can now stop the simulation (will free the memory)\n",
    "    logging.debug('Complete history should be full, it contains %s elements', len(complete_history))\n",
    "    # Now we are ready for the training process\n",
    "    logging.info('Starting Model Training')\n",
    "    losses = [None, None, None] # For debug purpose\n",
    "    sum_loss = 0\n",
    "    \n",
    "    for i in range(t_steps + 1):\n",
    "        if i % 100 == 0:\n",
    "            logging.info('Training Interaction: %s losses: %s', i, round(sum_loss / (i + 1), 2))\n",
    "        \n",
    "        # Get a BATCH_SIZE of games\n",
    "        t = time.time()\n",
    "        picked_data = random.sample(complete_history, k=min(BATCH_SIZE, len(complete_history)))\n",
    "        # Get a State from each game selected\n",
    "        x = np.empty((len(picked_data), 16, 16, 4), dtype=np.float64)\n",
    "        actions_taken = []\n",
    "        rewards = []\n",
    "        for j, game in enumerate(picked_data):\n",
    "            index = np.random.randint(0, len(game.actions_taken)) # Get game length and generate index\n",
    "            x[j] = np.array(game.states[index], dtype=np.float64)\n",
    "            actions_taken.append(game.actions_taken[index])    \n",
    "            rewards.append(np.array(game.rewards[-1], dtype=np.float64))\n",
    "            \n",
    "        #rewards = np.array(rewards)\n",
    "        actions_taken = np.array(actions_taken)\n",
    "        logging.debug('BEFORE PREDICT: %s', time.time() - t)\n",
    "        t = time.time()\n",
    "        y = alphabot_training.predict(x)\n",
    "        #y = [np.zeros((x.shape[0], 4)), np.zeros((x.shape[0], 1))]\n",
    "        logging.debug('PREDICT: %s', time.time() - t)\n",
    "        for idx, action in enumerate(actions_taken):\n",
    "            y[0][idx, actions_taken[idx]] = rewards[idx]\n",
    "            y[1][idx, 0] = rewards[idx]\n",
    "            \n",
    "        logging.debug('Policy training: %s Value Training: %s', y[0], y[1])\n",
    "        t = time.time()\n",
    "        losses = alphabot_training.train_on_batch(x, y)\n",
    "        logging.debug('TRAINING: %s', time.time() - t)\n",
    "        sum_loss += losses[0]\n",
    "        logging.debug('Losses: %s', losses)\n",
    "        \n",
    "        improved = False\n",
    "        evalued_step = False\n",
    "        if i % eval_steps == 0 and i > 0:\n",
    "            evalued_step = True\n",
    "            wins = {'candidate' : 0, 'best' : 0}\n",
    "            n_c = {0 : 'candidate', 1 : 'best'}\n",
    "            \n",
    "            logging.info('Starting self-play evaluation')    \n",
    "            for j in range(eval_games):\n",
    "                # 0 is Candidate, 1 is the (soon to be old) best\n",
    "                wins[n_c[play_eval()]] += 1 # add a win to the winner\n",
    "                if j % 100 == 0:\n",
    "                    logging.info('Win state Candidate: %s Best: %s', wins['candidate'], wins['best'])\n",
    "            win_ratio = wins['candidate'] / eval_games\n",
    "            if win_ratio > win_percent:\n",
    "                logging.info('Great! Our candidate won %s percent of games', round(win_ratio * 100, 2))\n",
    "                total_improv += 1\n",
    "                logging.info('Our bot got better %s times', total_improv)\n",
    "                improved = True\n",
    "                alphabot_best = clone_model(alphabot)\n",
    "                alphabot_best.set_weights(alphabot.get_weights())\n",
    "            else:\n",
    "                logging.info('Damn! Our candidate only won %s percent of games', round(win_ratio * 100, 2))\n",
    "        if not improved and evalued_step:\n",
    "            logging.info('Not improved, cloning to best')\n",
    "            alphabot = clone_model(alphabot_best)\n",
    "            alphabot.set_weights(alphabot_best.get_weights())\n",
    "    del complete_history[:n_games] # Delete n oldest games from history"
   ]
  },
  {
   "cell_type": "code",
   "execution_count": 12,
   "metadata": {
    "ExecuteTime": {
     "end_time": "2018-11-13T22:22:07.111240Z",
     "start_time": "2018-11-13T22:22:07.108669Z"
    },
    "autopy": 0
   },
   "outputs": [],
   "source": [
    "def load_best(best_model):\n",
    "    global alphabot\n",
    "    global alphabot_best\n",
    "    alphabot_best = load_model(best_model)\n",
    "    alphabot = clone_model(alphabot_best)"
   ]
  },
  {
   "cell_type": "code",
   "execution_count": 18,
   "metadata": {
    "ExecuteTime": {
     "end_time": "2018-11-13T22:22:29.858127Z",
     "start_time": "2018-11-13T22:22:29.854172Z"
    },
    "autopy": 0
   },
   "outputs": [],
   "source": [
    "def train(cycles, best_model = None):\n",
    "    global alphabot_best\n",
    "    global alphabot\n",
    "    \n",
    "    if best_model != None:\n",
    "        alphabot_best = load_model(best_model)\n",
    "        alphabot = clone_model(alphabot_best)\n",
    "    else:\n",
    "        alphabot_best = clone_model(alphabot)  \n",
    "        alphabot_best.set_weights(alphabot.get_weights())\n",
    "\n",
    "    for i in range(cycles):\n",
    "        training_cycle()"
   ]
  },
  {
   "cell_type": "code",
   "execution_count": 150,
   "metadata": {
    "autopy": 0
   },
   "outputs": [
    {
     "name": "stderr",
     "output_type": "stream",
     "text": [
      "/home/adryw/miniconda3/envs/gen-3/lib/python3.6/site-packages/keras/models.py:282: UserWarning: No training configuration found in save file: the model was *not* compiled. Compile it manually.\n",
      "  warnings.warn('No training configuration found in save file: '\n"
     ]
    }
   ],
   "source": [
    "load_best('/data/rw/cp_bot/best_first_run.h5')"
   ]
  },
  {
   "cell_type": "code",
   "execution_count": 19,
   "metadata": {
    "ExecuteTime": {
     "end_time": "2018-11-13T22:25:17.962058Z",
     "start_time": "2018-11-13T22:22:31.142982Z"
    },
    "autopy": 0
   },
   "outputs": [
    {
     "ename": "KeyboardInterrupt",
     "evalue": "",
     "output_type": "error",
     "traceback": [
      "\u001b[0;31m---------------------------------------------------------------------------\u001b[0m",
      "\u001b[0;31mKeyboardInterrupt\u001b[0m                         Traceback (most recent call last)",
      "\u001b[0;32m<ipython-input-19-d07c56b67da1>\u001b[0m in \u001b[0;36m<module>\u001b[0;34m\u001b[0m\n\u001b[1;32m      2\u001b[0m \u001b[0mcycles\u001b[0m \u001b[0;34m=\u001b[0m \u001b[0;36m1000\u001b[0m\u001b[0;34m\u001b[0m\u001b[0m\n\u001b[1;32m      3\u001b[0m \u001b[0;34m\u001b[0m\u001b[0m\n\u001b[0;32m----> 4\u001b[0;31m \u001b[0mtrain\u001b[0m\u001b[0;34m(\u001b[0m\u001b[0mcycles\u001b[0m\u001b[0;34m)\u001b[0m\u001b[0;34m\u001b[0m\u001b[0m\n\u001b[0m",
      "\u001b[0;32m<ipython-input-18-91c2b9efef9c>\u001b[0m in \u001b[0;36mtrain\u001b[0;34m(cycles, best_model)\u001b[0m\n\u001b[1;32m     11\u001b[0m \u001b[0;34m\u001b[0m\u001b[0m\n\u001b[1;32m     12\u001b[0m     \u001b[0;32mfor\u001b[0m \u001b[0mi\u001b[0m \u001b[0;32min\u001b[0m \u001b[0mrange\u001b[0m\u001b[0;34m(\u001b[0m\u001b[0mcycles\u001b[0m\u001b[0;34m)\u001b[0m\u001b[0;34m:\u001b[0m\u001b[0;34m\u001b[0m\u001b[0m\n\u001b[0;32m---> 13\u001b[0;31m         \u001b[0mtraining_cycle\u001b[0m\u001b[0;34m(\u001b[0m\u001b[0;34m)\u001b[0m\u001b[0;34m\u001b[0m\u001b[0m\n\u001b[0m",
      "\u001b[0;32m<ipython-input-11-517be28b440c>\u001b[0m in \u001b[0;36mtraining_cycle\u001b[0;34m()\u001b[0m\n\u001b[1;32m      7\u001b[0m     \u001b[0mlogging\u001b[0m\u001b[0;34m.\u001b[0m\u001b[0minfo\u001b[0m\u001b[0;34m(\u001b[0m\u001b[0;34m'Starting Training Cycle'\u001b[0m\u001b[0;34m)\u001b[0m\u001b[0;34m\u001b[0m\u001b[0m\n\u001b[1;32m      8\u001b[0m     \u001b[0;32mwhile\u001b[0m \u001b[0mlen\u001b[0m\u001b[0;34m(\u001b[0m\u001b[0mcomplete_history\u001b[0m\u001b[0;34m)\u001b[0m \u001b[0;34m<\u001b[0m \u001b[0mk\u001b[0m \u001b[0;34m*\u001b[0m \u001b[0mn_games\u001b[0m\u001b[0;34m:\u001b[0m\u001b[0;34m\u001b[0m\u001b[0m\n\u001b[0;32m----> 9\u001b[0;31m         \u001b[0msimulate_games\u001b[0m\u001b[0;34m(\u001b[0m\u001b[0;34m)\u001b[0m\u001b[0;34m\u001b[0m\u001b[0m\n\u001b[0m\u001b[1;32m     10\u001b[0m         \u001b[0;31m# history_buffer contains the games, we store them inside complete history\u001b[0m\u001b[0;34m\u001b[0m\u001b[0;34m\u001b[0m\u001b[0m\n\u001b[1;32m     11\u001b[0m         \u001b[0;32mfor\u001b[0m \u001b[0mg\u001b[0m \u001b[0;32min\u001b[0m \u001b[0mrange\u001b[0m\u001b[0;34m(\u001b[0m\u001b[0mhistory_buffer\u001b[0m\u001b[0;34m.\u001b[0m\u001b[0mqsize\u001b[0m\u001b[0;34m(\u001b[0m\u001b[0;34m)\u001b[0m\u001b[0;34m)\u001b[0m\u001b[0;34m:\u001b[0m\u001b[0;34m\u001b[0m\u001b[0m\n",
      "\u001b[0;32m<ipython-input-9-e3fd14a4c6cf>\u001b[0m in \u001b[0;36msimulate_games\u001b[0;34m()\u001b[0m\n\u001b[1;32m     13\u001b[0m             \u001b[0mstates\u001b[0m\u001b[0;34m.\u001b[0m\u001b[0mappend\u001b[0m\u001b[0;34m(\u001b[0m\u001b[0mstate\u001b[0m\u001b[0;34m)\u001b[0m\u001b[0;34m\u001b[0m\u001b[0m\n\u001b[1;32m     14\u001b[0m \u001b[0;34m\u001b[0m\u001b[0m\n\u001b[0;32m---> 15\u001b[0;31m         \u001b[0mpredictions\u001b[0m \u001b[0;34m=\u001b[0m \u001b[0malphabot\u001b[0m\u001b[0;34m.\u001b[0m\u001b[0mpredict\u001b[0m\u001b[0;34m(\u001b[0m\u001b[0mnp\u001b[0m\u001b[0;34m.\u001b[0m\u001b[0marray\u001b[0m\u001b[0;34m(\u001b[0m\u001b[0mstates\u001b[0m\u001b[0;34m,\u001b[0m \u001b[0mdtype\u001b[0m\u001b[0;34m=\u001b[0m\u001b[0mnp\u001b[0m\u001b[0;34m.\u001b[0m\u001b[0mfloat64\u001b[0m\u001b[0;34m)\u001b[0m\u001b[0;34m)\u001b[0m\u001b[0;34m\u001b[0m\u001b[0m\n\u001b[0m\u001b[1;32m     16\u001b[0m         \u001b[0;32mfor\u001b[0m \u001b[0mi\u001b[0m\u001b[0;34m,\u001b[0m \u001b[0mpred\u001b[0m \u001b[0;32min\u001b[0m \u001b[0menumerate\u001b[0m\u001b[0;34m(\u001b[0m\u001b[0mtuple\u001b[0m\u001b[0;34m(\u001b[0m\u001b[0mzip\u001b[0m\u001b[0;34m(\u001b[0m\u001b[0mpredictions\u001b[0m\u001b[0;34m[\u001b[0m\u001b[0;36m0\u001b[0m\u001b[0;34m]\u001b[0m\u001b[0;34m,\u001b[0m \u001b[0mpredictions\u001b[0m\u001b[0;34m[\u001b[0m\u001b[0;36m1\u001b[0m\u001b[0;34m]\u001b[0m\u001b[0;34m)\u001b[0m\u001b[0;34m)\u001b[0m\u001b[0;34m)\u001b[0m\u001b[0;34m:\u001b[0m\u001b[0;34m\u001b[0m\u001b[0m\n\u001b[1;32m     17\u001b[0m             \u001b[0mpipes\u001b[0m\u001b[0;34m[\u001b[0m\u001b[0mindices\u001b[0m\u001b[0;34m[\u001b[0m\u001b[0mi\u001b[0m\u001b[0;34m]\u001b[0m\u001b[0;34m]\u001b[0m\u001b[0;34m.\u001b[0m\u001b[0msend\u001b[0m\u001b[0;34m(\u001b[0m\u001b[0mdict\u001b[0m\u001b[0;34m(\u001b[0m\u001b[0mzip\u001b[0m\u001b[0;34m(\u001b[0m\u001b[0malphabot\u001b[0m\u001b[0;34m.\u001b[0m\u001b[0moutput_names\u001b[0m\u001b[0;34m,\u001b[0m \u001b[0mpred\u001b[0m\u001b[0;34m)\u001b[0m\u001b[0;34m)\u001b[0m\u001b[0;34m)\u001b[0m\u001b[0;34m\u001b[0m\u001b[0m\n",
      "\u001b[0;32m~/miniconda3/lib/python3.6/site-packages/keras/engine/training.py\u001b[0m in \u001b[0;36mpredict\u001b[0;34m(self, x, batch_size, verbose, steps)\u001b[0m\n\u001b[1;32m   1167\u001b[0m                                             \u001b[0mbatch_size\u001b[0m\u001b[0;34m=\u001b[0m\u001b[0mbatch_size\u001b[0m\u001b[0;34m,\u001b[0m\u001b[0;34m\u001b[0m\u001b[0m\n\u001b[1;32m   1168\u001b[0m                                             \u001b[0mverbose\u001b[0m\u001b[0;34m=\u001b[0m\u001b[0mverbose\u001b[0m\u001b[0;34m,\u001b[0m\u001b[0;34m\u001b[0m\u001b[0m\n\u001b[0;32m-> 1169\u001b[0;31m                                             steps=steps)\n\u001b[0m\u001b[1;32m   1170\u001b[0m \u001b[0;34m\u001b[0m\u001b[0m\n\u001b[1;32m   1171\u001b[0m     def train_on_batch(self, x, y,\n",
      "\u001b[0;32m~/miniconda3/lib/python3.6/site-packages/keras/engine/training_arrays.py\u001b[0m in \u001b[0;36mpredict_loop\u001b[0;34m(model, f, ins, batch_size, verbose, steps)\u001b[0m\n\u001b[1;32m    292\u001b[0m                 \u001b[0mins_batch\u001b[0m\u001b[0;34m[\u001b[0m\u001b[0mi\u001b[0m\u001b[0;34m]\u001b[0m \u001b[0;34m=\u001b[0m \u001b[0mins_batch\u001b[0m\u001b[0;34m[\u001b[0m\u001b[0mi\u001b[0m\u001b[0;34m]\u001b[0m\u001b[0;34m.\u001b[0m\u001b[0mtoarray\u001b[0m\u001b[0;34m(\u001b[0m\u001b[0;34m)\u001b[0m\u001b[0;34m\u001b[0m\u001b[0m\n\u001b[1;32m    293\u001b[0m \u001b[0;34m\u001b[0m\u001b[0m\n\u001b[0;32m--> 294\u001b[0;31m             \u001b[0mbatch_outs\u001b[0m \u001b[0;34m=\u001b[0m \u001b[0mf\u001b[0m\u001b[0;34m(\u001b[0m\u001b[0mins_batch\u001b[0m\u001b[0;34m)\u001b[0m\u001b[0;34m\u001b[0m\u001b[0m\n\u001b[0m\u001b[1;32m    295\u001b[0m             \u001b[0mbatch_outs\u001b[0m \u001b[0;34m=\u001b[0m \u001b[0mto_list\u001b[0m\u001b[0;34m(\u001b[0m\u001b[0mbatch_outs\u001b[0m\u001b[0;34m)\u001b[0m\u001b[0;34m\u001b[0m\u001b[0m\n\u001b[1;32m    296\u001b[0m             \u001b[0;32mif\u001b[0m \u001b[0mbatch_index\u001b[0m \u001b[0;34m==\u001b[0m \u001b[0;36m0\u001b[0m\u001b[0;34m:\u001b[0m\u001b[0;34m\u001b[0m\u001b[0m\n",
      "\u001b[0;32m~/miniconda3/lib/python3.6/site-packages/keras/backend/tensorflow_backend.py\u001b[0m in \u001b[0;36m__call__\u001b[0;34m(self, inputs)\u001b[0m\n\u001b[1;32m   2713\u001b[0m                 \u001b[0;32mreturn\u001b[0m \u001b[0mself\u001b[0m\u001b[0;34m.\u001b[0m\u001b[0m_legacy_call\u001b[0m\u001b[0;34m(\u001b[0m\u001b[0minputs\u001b[0m\u001b[0;34m)\u001b[0m\u001b[0;34m\u001b[0m\u001b[0m\n\u001b[1;32m   2714\u001b[0m \u001b[0;34m\u001b[0m\u001b[0m\n\u001b[0;32m-> 2715\u001b[0;31m             \u001b[0;32mreturn\u001b[0m \u001b[0mself\u001b[0m\u001b[0;34m.\u001b[0m\u001b[0m_call\u001b[0m\u001b[0;34m(\u001b[0m\u001b[0minputs\u001b[0m\u001b[0;34m)\u001b[0m\u001b[0;34m\u001b[0m\u001b[0m\n\u001b[0m\u001b[1;32m   2716\u001b[0m         \u001b[0;32melse\u001b[0m\u001b[0;34m:\u001b[0m\u001b[0;34m\u001b[0m\u001b[0m\n\u001b[1;32m   2717\u001b[0m             \u001b[0;32mif\u001b[0m \u001b[0mpy_any\u001b[0m\u001b[0;34m(\u001b[0m\u001b[0mis_tensor\u001b[0m\u001b[0;34m(\u001b[0m\u001b[0mx\u001b[0m\u001b[0;34m)\u001b[0m \u001b[0;32mfor\u001b[0m \u001b[0mx\u001b[0m \u001b[0;32min\u001b[0m \u001b[0minputs\u001b[0m\u001b[0;34m)\u001b[0m\u001b[0;34m:\u001b[0m\u001b[0;34m\u001b[0m\u001b[0m\n",
      "\u001b[0;32m~/miniconda3/lib/python3.6/site-packages/keras/backend/tensorflow_backend.py\u001b[0m in \u001b[0;36m_call\u001b[0;34m(self, inputs)\u001b[0m\n\u001b[1;32m   2673\u001b[0m             \u001b[0mfetched\u001b[0m \u001b[0;34m=\u001b[0m \u001b[0mself\u001b[0m\u001b[0;34m.\u001b[0m\u001b[0m_callable_fn\u001b[0m\u001b[0;34m(\u001b[0m\u001b[0;34m*\u001b[0m\u001b[0marray_vals\u001b[0m\u001b[0;34m,\u001b[0m \u001b[0mrun_metadata\u001b[0m\u001b[0;34m=\u001b[0m\u001b[0mself\u001b[0m\u001b[0;34m.\u001b[0m\u001b[0mrun_metadata\u001b[0m\u001b[0;34m)\u001b[0m\u001b[0;34m\u001b[0m\u001b[0m\n\u001b[1;32m   2674\u001b[0m         \u001b[0;32melse\u001b[0m\u001b[0;34m:\u001b[0m\u001b[0;34m\u001b[0m\u001b[0m\n\u001b[0;32m-> 2675\u001b[0;31m             \u001b[0mfetched\u001b[0m \u001b[0;34m=\u001b[0m \u001b[0mself\u001b[0m\u001b[0;34m.\u001b[0m\u001b[0m_callable_fn\u001b[0m\u001b[0;34m(\u001b[0m\u001b[0;34m*\u001b[0m\u001b[0marray_vals\u001b[0m\u001b[0;34m)\u001b[0m\u001b[0;34m\u001b[0m\u001b[0m\n\u001b[0m\u001b[1;32m   2676\u001b[0m         \u001b[0;32mreturn\u001b[0m \u001b[0mfetched\u001b[0m\u001b[0;34m[\u001b[0m\u001b[0;34m:\u001b[0m\u001b[0mlen\u001b[0m\u001b[0;34m(\u001b[0m\u001b[0mself\u001b[0m\u001b[0;34m.\u001b[0m\u001b[0moutputs\u001b[0m\u001b[0;34m)\u001b[0m\u001b[0;34m]\u001b[0m\u001b[0;34m\u001b[0m\u001b[0m\n\u001b[1;32m   2677\u001b[0m \u001b[0;34m\u001b[0m\u001b[0m\n",
      "\u001b[0;32m~/miniconda3/lib/python3.6/site-packages/tensorflow/python/client/session.py\u001b[0m in \u001b[0;36m__call__\u001b[0;34m(self, *args, **kwargs)\u001b[0m\n\u001b[1;32m   1380\u001b[0m           ret = tf_session.TF_SessionRunCallable(\n\u001b[1;32m   1381\u001b[0m               \u001b[0mself\u001b[0m\u001b[0;34m.\u001b[0m\u001b[0m_session\u001b[0m\u001b[0;34m.\u001b[0m\u001b[0m_session\u001b[0m\u001b[0;34m,\u001b[0m \u001b[0mself\u001b[0m\u001b[0;34m.\u001b[0m\u001b[0m_handle\u001b[0m\u001b[0;34m,\u001b[0m \u001b[0margs\u001b[0m\u001b[0;34m,\u001b[0m \u001b[0mstatus\u001b[0m\u001b[0;34m,\u001b[0m\u001b[0;34m\u001b[0m\u001b[0m\n\u001b[0;32m-> 1382\u001b[0;31m               run_metadata_ptr)\n\u001b[0m\u001b[1;32m   1383\u001b[0m         \u001b[0;32mif\u001b[0m \u001b[0mrun_metadata\u001b[0m\u001b[0;34m:\u001b[0m\u001b[0;34m\u001b[0m\u001b[0m\n\u001b[1;32m   1384\u001b[0m           \u001b[0mproto_data\u001b[0m \u001b[0;34m=\u001b[0m \u001b[0mtf_session\u001b[0m\u001b[0;34m.\u001b[0m\u001b[0mTF_GetBuffer\u001b[0m\u001b[0;34m(\u001b[0m\u001b[0mrun_metadata_ptr\u001b[0m\u001b[0;34m)\u001b[0m\u001b[0;34m\u001b[0m\u001b[0m\n",
      "\u001b[0;31mKeyboardInterrupt\u001b[0m: "
     ]
    }
   ],
   "source": [
    "#complete_history = []\n",
    "cycles = 1000\n",
    "\n",
    "train(cycles)"
   ]
  },
  {
   "cell_type": "code",
   "execution_count": 14,
   "metadata": {
    "ExecuteTime": {
     "end_time": "2018-11-13T22:22:11.803673Z",
     "start_time": "2018-11-13T22:22:11.794985Z"
    },
    "autopy": 0
   },
   "outputs": [],
   "source": [
    "def map_to_state(gmap, gmap_old, p_alive):\n",
    "    if type(gmap_old) != np.ndarray:\n",
    "        gmap_old = np.full_like(gmap, -1)\n",
    "    \n",
    "    n_alive = sum(p_alive == 1)\n",
    "    states = np.empty((n_alive, *INPUT_SIZE), dtype=np.int)\n",
    "    \n",
    "    idx_alive = 0\n",
    "    for idx, alive in enumerate(p_alive):\n",
    "        if alive == 0: # Skip dead player\n",
    "            continue\n",
    "            \n",
    "        # Player is alive, we collect its state\n",
    "        states[idx_alive] = process_map(idx, gmap, gmap_old)\n",
    "        idx_alive += 1\n",
    "        \n",
    "    return states\n",
    "\n",
    "def process_map(idx, gmap, gmap_old):\n",
    "    pov_me = np.zeros((*INPUT_SIZE[:2], 1), dtype=np.int)\n",
    "    pov_me_last = np.zeros((*INPUT_SIZE[:2], 1), dtype=np.int)\n",
    "    pov_not_me = np.zeros((*INPUT_SIZE[:2], 1), dtype=np.int)\n",
    "    pov_not_me_last = np.zeros((*INPUT_SIZE[:2], 1), dtype=np.int)\n",
    "    \n",
    "    pov_me[np.where(gmap == idx)] = 1 # Set to 1 where bot is\n",
    "    pov_me_last[np.where(gmap_old == idx)] = 1\n",
    "    \n",
    "    pov_not_me[np.where(~np.isin(gmap, [idx, -1]))] = 1 # Set to 1 where bot is not\n",
    "    pov_not_me_last[np.where(~np.isin(gmap_old, [idx, -1]))] = 1\n",
    "    \n",
    "    return np.concatenate([pov_me, pov_me_last, pov_not_me, pov_not_me_last], axis=2)"
   ]
  },
  {
   "cell_type": "code",
   "execution_count": 15,
   "metadata": {
    "ExecuteTime": {
     "end_time": "2018-11-13T22:22:12.746675Z",
     "start_time": "2018-11-13T22:22:12.740773Z"
    },
    "autopy": 0
   },
   "outputs": [],
   "source": [
    "class GameRecorder():\n",
    "    def __init__(self):\n",
    "        self.states = []\n",
    "        self.rewards = []\n",
    "        self.actions_taken = []\n",
    "        \n",
    "    def store(self, state, reward, action_taken):\n",
    "        self.states.append(state)\n",
    "        self.rewards.append(reward)\n",
    "        self.actions_taken.append(action_taken)"
   ]
  },
  {
   "cell_type": "code",
   "execution_count": 16,
   "metadata": {
    "ExecuteTime": {
     "end_time": "2018-11-13T22:22:13.393807Z",
     "start_time": "2018-11-13T22:22:13.377294Z"
    },
    "autopy": 0
   },
   "outputs": [],
   "source": [
    "def ask_predict(id, x):\n",
    "    # Adds to queue id and data from process\n",
    "    [processable_buffer.put((id, xi)) for xi in x]\n",
    "\n",
    "def sim(process_id, pipe):    \n",
    "    while True:\n",
    "        games_buffer = [GameRecorder() for player in range(n_players)] # Create a place to store games\n",
    "        \n",
    "        # Simulate the game, if a prediction is needed use ask_predict\n",
    "        game = emulator.Game(n_players) # TODO: Wrap the following lines in a function\n",
    "        gmap = game.map # Access map manually on first step\n",
    "        gmap_old = None # First frame has no older map\n",
    "        p_alive = game.players_alive # Players alive\n",
    "        n_alive = game.count_alive()\n",
    "\n",
    "        while True:\n",
    "            state = map_to_state(gmap, gmap_old, p_alive) # State for each player alive\n",
    "            ask_predict(process_id, state)\n",
    "            policy, value = [], []\n",
    "            for i in range(n_alive):\n",
    "                raw_prediction = pipe.recv() # Receive actions from main\n",
    "                policy.append(raw_prediction['policy'])\n",
    "                value.append(raw_prediction['value'])\n",
    "            \n",
    "            policy = softmax(np.array(policy)) # We softmax the policy logits\n",
    "            #chosen_action = [np.random.choice(N_ACTIONS, p=act) for act in policy]\n",
    "            chosen_action = np.argmax(policy, axis=-1)\n",
    "            logging.debug('Choosen Actions %s Raw Actions %s', chosen_action, policy)\n",
    "            \n",
    "            gmap_old = copy.copy(gmap)\n",
    "            gmap, p_alive_new, n_alive, reward, game_end = game.step(chosen_action)\n",
    "        \n",
    "            idx_alive = 0\n",
    "            for alive in p_alive: # Players which were alive at the start of the step\n",
    "                if alive == 0: # Player is dead, skip it\n",
    "                    continue\n",
    "                \n",
    "                games_buffer[idx_alive].store(state[idx_alive], reward[idx_alive], chosen_action[idx_alive])\n",
    "                idx_alive += 1\n",
    "            p_alive = copy.copy(p_alive_new)\n",
    "            \n",
    "            if game_end:\n",
    "                logging.debug('Game ended, rewards %s', reward)\n",
    "                break\n",
    "        try:\n",
    "            for g in games_buffer:\n",
    "                # I didn't find a bug yet that makes some games be of 0 steps, gonna skip them for now\n",
    "                if len(g.actions_taken) == 0:\n",
    "                    logging.debug('WHAT A 0 STEPS GAME')\n",
    "                    continue\n",
    "                    \n",
    "                history_buffer.put_nowait(g)\n",
    "        except:\n",
    "            break\n",
    "                    \n",
    "def stop_simulation():\n",
    "    global workers\n",
    "    global history_buffer\n",
    "    global processable_buffer\n",
    "    global pipes\n",
    "    global child_pipes\n",
    "    \n",
    "    if 'workers' in globals() and len(workers) != 0:\n",
    "        for worker in workers:\n",
    "            worker.terminate()\n",
    "    workers = []\n",
    "    \n",
    "    for pipe in pipes:\n",
    "        pipe.close()\n",
    "    \n",
    "    for pipe in child_pipes:\n",
    "        pipe.close()\n",
    "        \n",
    "    history_buffer.close()\n",
    "    processable_buffer.close()\n",
    "    \n",
    "    # Then we empty the queues\n",
    "    del history_buffer\n",
    "    del processable_buffer\n",
    "    del pipes\n",
    "    del child_pipes\n",
    "\n",
    "def parallel_sim():\n",
    "    global workers\n",
    "    global history_buffer\n",
    "    global processable_buffer\n",
    "    global pipes\n",
    "    global child_pipes\n",
    "    \n",
    "    if 'workers' in globals() and len(workers) != 0:\n",
    "        stop_simulation()\n",
    "    \n",
    "    history_buffer = Queue(n_games) # This numbers can be tweaked\n",
    "    processable_buffer = Queue(num_threads * n_players)\n",
    "    pipes = []\n",
    "    child_pipes = []\n",
    "    \n",
    "    workers = []\n",
    "    for i in range(num_threads):\n",
    "        parent_pipe, child_pipe = Pipe() # Pipe to communicate with childs\n",
    "        pipes.append(parent_pipe)\n",
    "        child_pipes.append(child_pipe)\n",
    "        \n",
    "        worker = Thread(target=sim, args=[i, child_pipe])\n",
    "        worker.daemon = False\n",
    "        worker.start()\n",
    "        workers.append(worker)"
   ]
  }
 ],
 "metadata": {
  "kernelspec": {
   "display_name": "Python 3",
   "language": "python",
   "name": "python3"
  },
  "language_info": {
   "codemirror_mode": {
    "name": "ipython",
    "version": 3
   },
   "file_extension": ".py",
   "mimetype": "text/x-python",
   "name": "python",
   "nbconvert_exporter": "python",
   "pygments_lexer": "ipython3",
   "version": "3.6.5"
  }
 },
 "nbformat": 4,
 "nbformat_minor": 2
}
